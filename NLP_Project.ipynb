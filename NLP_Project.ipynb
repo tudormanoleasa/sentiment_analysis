{
 "cells": [
  {
   "cell_type": "code",
   "execution_count": 1,
   "metadata": {},
   "outputs": [],
   "source": [
    "import pandas as pd\n",
    "import numpy as np\n",
    "import scipy\n",
    "import sklearn\n",
    "import ast\n",
    "import nltk\n",
    "import copy\n",
    "import tqdm\n",
    "import os\n",
    "import gensim\n",
    "import re\n",
    "\n",
    "from nltk.stem import WordNetLemmatizer \n",
    "from nltk import pos_tag #Penn Treebank tag set\n",
    "from nltk.corpus import wordnet as wn \n",
    "from nltk.corpus import stopwords\n",
    "from nltk.corpus import words\n",
    "from sklearn.feature_extraction.text import TfidfTransformer\n",
    "\n",
    "from sklearn.model_selection import train_test_split, RandomizedSearchCV\n",
    "from sklearn.preprocessing import StandardScaler\n",
    "from sklearn.naive_bayes import MultinomialNB, ComplementNB, BernoulliNB\n",
    "from sklearn.pipeline import Pipeline\n",
    "from sklearn.svm import SVC\n",
    "\n",
    "import matplotlib.pyplot as plt\n",
    "\n",
    "from sklearn.metrics import roc_curve\n",
    "from sklearn.metrics import roc_auc_score\n",
    "from sklearn.metrics import accuracy_score, confusion_matrix, classification_report\n",
    "\n",
    "import tensorflow\n",
    "\n",
    "from tensorflow.keras.preprocessing.text import Tokenizer\n",
    "from tensorflow.keras.preprocessing.sequence import pad_sequences"
   ]
  },
  {
   "cell_type": "code",
   "execution_count": 2,
   "metadata": {},
   "outputs": [],
   "source": [
    "tensorflow.config.experimental.set_memory_growth(tensorflow.config.experimental.list_physical_devices('GPU')[0], True)"
   ]
  },
  {
   "cell_type": "code",
   "execution_count": 3,
   "metadata": {},
   "outputs": [
    {
     "data": {
      "text/html": [
       "<div>\n",
       "<style scoped>\n",
       "    .dataframe tbody tr th:only-of-type {\n",
       "        vertical-align: middle;\n",
       "    }\n",
       "\n",
       "    .dataframe tbody tr th {\n",
       "        vertical-align: top;\n",
       "    }\n",
       "\n",
       "    .dataframe thead th {\n",
       "        text-align: right;\n",
       "    }\n",
       "</style>\n",
       "<table border=\"1\" class=\"dataframe\">\n",
       "  <thead>\n",
       "    <tr style=\"text-align: right;\">\n",
       "      <th></th>\n",
       "      <th>id</th>\n",
       "      <th>text</th>\n",
       "      <th>is_humor</th>\n",
       "      <th>humor_rating</th>\n",
       "      <th>humor_controversy</th>\n",
       "      <th>offense_rating</th>\n",
       "    </tr>\n",
       "  </thead>\n",
       "  <tbody>\n",
       "    <tr>\n",
       "      <td>0</td>\n",
       "      <td>1</td>\n",
       "      <td>TENNESSEE: We're the best state. Nobody even c...</td>\n",
       "      <td>1</td>\n",
       "      <td>2.42</td>\n",
       "      <td>1.0</td>\n",
       "      <td>0.2</td>\n",
       "    </tr>\n",
       "    <tr>\n",
       "      <td>1</td>\n",
       "      <td>2</td>\n",
       "      <td>A man inserted an advertisement in the classif...</td>\n",
       "      <td>1</td>\n",
       "      <td>2.50</td>\n",
       "      <td>1.0</td>\n",
       "      <td>1.1</td>\n",
       "    </tr>\n",
       "    <tr>\n",
       "      <td>2</td>\n",
       "      <td>3</td>\n",
       "      <td>How many men does it take to open a can of bee...</td>\n",
       "      <td>1</td>\n",
       "      <td>1.95</td>\n",
       "      <td>0.0</td>\n",
       "      <td>2.4</td>\n",
       "    </tr>\n",
       "    <tr>\n",
       "      <td>3</td>\n",
       "      <td>4</td>\n",
       "      <td>Told my mom I hit 1200 Twitter followers. She ...</td>\n",
       "      <td>1</td>\n",
       "      <td>2.11</td>\n",
       "      <td>1.0</td>\n",
       "      <td>0.0</td>\n",
       "    </tr>\n",
       "    <tr>\n",
       "      <td>4</td>\n",
       "      <td>5</td>\n",
       "      <td>Roses are dead. Love is fake. Weddings are bas...</td>\n",
       "      <td>1</td>\n",
       "      <td>2.78</td>\n",
       "      <td>0.0</td>\n",
       "      <td>0.1</td>\n",
       "    </tr>\n",
       "  </tbody>\n",
       "</table>\n",
       "</div>"
      ],
      "text/plain": [
       "   id                                               text  is_humor  \\\n",
       "0   1  TENNESSEE: We're the best state. Nobody even c...         1   \n",
       "1   2  A man inserted an advertisement in the classif...         1   \n",
       "2   3  How many men does it take to open a can of bee...         1   \n",
       "3   4  Told my mom I hit 1200 Twitter followers. She ...         1   \n",
       "4   5  Roses are dead. Love is fake. Weddings are bas...         1   \n",
       "\n",
       "   humor_rating  humor_controversy  offense_rating  \n",
       "0          2.42                1.0             0.2  \n",
       "1          2.50                1.0             1.1  \n",
       "2          1.95                0.0             2.4  \n",
       "3          2.11                1.0             0.0  \n",
       "4          2.78                0.0             0.1  "
      ]
     },
     "execution_count": 3,
     "metadata": {},
     "output_type": "execute_result"
    }
   ],
   "source": [
    "df = pd.read_csv(r'C:\\Users\\Tudor\\Desktop\\SentimentAnalysis\\train.csv')\n",
    "original = copy.deepcopy(df)\n",
    "df.head(5)"
   ]
  },
  {
   "cell_type": "code",
   "execution_count": 4,
   "metadata": {},
   "outputs": [
    {
     "name": "stdout",
     "output_type": "stream",
     "text": [
      "Offense texts: 3068\n",
      "Humor texts: 4932\n",
      "Total texts: 8000\n"
     ]
    }
   ],
   "source": [
    "# A little bit imbalanced\n",
    "print(\"Offense texts:\", df['is_humor'][df['is_humor'] == 0].count())\n",
    "print(\"Humor texts:\", df['is_humor'][df['is_humor'] == 1].count())\n",
    "print(\"Total texts:\", len(df))"
   ]
  },
  {
   "cell_type": "code",
   "execution_count": 5,
   "metadata": {},
   "outputs": [],
   "source": [
    "balance = False\n",
    "if balance == True:\n",
    "    data_frames = [df[df['is_humor'] == 1].sample(3068), df[df['is_humor'] == 0]]\n",
    "    new_df = pd.concat(data_frames, sort=False)\n",
    "    new_df.reset_index(drop=True, inplace=True)\n",
    "    print(\"Offense texts:\", new_df['is_humor'][new_df['is_humor'] == 0].count())\n",
    "    print(\"Humor texts:\", new_df['is_humor'][new_df['is_humor'] == 1].count())\n",
    "    print(\"Total texts:\", len(new_df))\n",
    "    df = copy.deepcopy(new_df)"
   ]
  },
  {
   "cell_type": "code",
   "execution_count": 6,
   "metadata": {},
   "outputs": [
    {
     "name": "stdout",
     "output_type": "stream",
     "text": [
      "Number of unique words: 11449\n",
      "Wall time: 2min 43s\n"
     ]
    }
   ],
   "source": [
    "%%time\n",
    "\n",
    "# Lower all texts\n",
    "df['text'] = df['text'].apply(lambda elem : elem.lower())\n",
    "\n",
    "# Tokenize the texts into words\n",
    "df['text'] = df['text'].apply(lambda elem : nltk.tokenize.word_tokenize(elem))\n",
    "\n",
    "# [state-of-the-art] [#, rezist]\n",
    "\n",
    "\n",
    "def my_func(elem):\n",
    "    global new_l\n",
    "    if re.search(\"\\*\", elem):\n",
    "        new_l.extend(list(filter(lambda e : e != '', re.split(\"\\*\", elem))))\n",
    "    elif re.search(\"=\", elem):\n",
    "        new_l.extend(list(filter(lambda e : e != '', re.split(\"=\", elem))))\n",
    "    elif re.search(\"~\", elem):\n",
    "        new_l.extend(list(filter(lambda e : e != '', re.split(\"~\", elem))))\n",
    "    elif re.search(\"#\", elem):\n",
    "        new_l.extend(list(filter(lambda e : e != '', re.split(\"#\", elem))))\n",
    "    elif re.search(\"\\$\", elem):\n",
    "        new_l.extend(list(filter(lambda e : e != '', re.split(\"\\$\", elem))))\n",
    "    elif re.search(\"@\", elem):\n",
    "        new_l.extend(list(filter(lambda e : e != '', re.split(\"@\", elem))))\n",
    "    elif re.search(\"\\\"\", elem):\n",
    "        new_l.extend(list(filter(lambda e : e != '', re.split(\"\\\"\", elem))))\n",
    "    elif re.search(\"\\-\", elem):\n",
    "        sir = \"\"\n",
    "        for _ in list(filter(lambda e : e != '', re.split(\"-\", elem))):\n",
    "            sir += _\n",
    "        if sir in words.words():\n",
    "            new_l.append(sir)\n",
    "        else:\n",
    "            new_l.extend(list(filter(lambda e : e != '', re.split(\"-\", elem))))\n",
    "    else:\n",
    "        new_l.append(elem)\n",
    "\n",
    "l = []\n",
    "for i in range(0, len(df['text'])):\n",
    "    if re.search(\"[\\*#~=\\$@\\-]\", ''.join(df.loc[i]['text'])):\n",
    "        new_l = []\n",
    "        for elem in df.loc[i]['text']:    \n",
    "            my_func(elem)\n",
    "        aux_new_l = df.loc[i]['text']\n",
    "        while new_l != aux_new_l:\n",
    "            aux_new_l = copy.deepcopy(new_l)\n",
    "            new_l = []\n",
    "            for elem in aux_new_l:\n",
    "                my_func(elem)\n",
    "        l.append(new_l)\n",
    "    else:\n",
    "        l.append(df.loc[i]['text'])\n",
    "df['text'] = l\n",
    "\n",
    "\n",
    "# Remove non alphanumeric words \n",
    "df['text'] = df['text'].apply(lambda elem : [word for word in elem if word.isalnum()])\n",
    "\n",
    "# https://stackoverflow.com/questions/25534214/nltk-wordnet-lemmatizer-shouldnt-it-lemmatize-all-inflections-of-a-word\n",
    "# The above link explains the following\n",
    "# Keep only the canonical forms of the words \n",
    "tag_to_pos = lambda elem : elem.lower() if elem in ['N', 'V', 'R'] else 'a'\n",
    "df['text'] = df['text'].apply(lambda elem : [nltk.stem.WordNetLemmatizer().lemmatize(word=word_pos[0], pos=tag_to_pos(word_pos[1][0]))\n",
    "                                             if word_pos[1][0] in ('N', 'V', 'R', 'J') #if NOUN, VERB, ADVERB, ADJ\n",
    "                                             else word_pos[0] \n",
    "                                             for word_pos in nltk.pos_tag(elem)])\n",
    "\n",
    "# Get rid of stopwords (eg: the, is, at etc)\n",
    "stopWords = set(stopwords.words('english'))\n",
    "df['text'] = df['text'].apply(lambda elem : [word for word in elem if word not in stopWords])\n",
    "\n",
    "# Make a set of all the unique words in the dataframe (might be useful later)\n",
    "set_of_words = set()\n",
    "aux = []\n",
    "for elem in df['text']:\n",
    "    set_of_words.update(elem)\n",
    "    aux.extend(elem)\n",
    "\n",
    "# Make a dictionary of words so that you know how many times each word appears in the dataframe (might be useful later)\n",
    "d_of_words = dict(zip(set_of_words, [0 for _ in range(0, len(set_of_words))]))\n",
    "for key in d_of_words.keys():\n",
    "    d_of_words[key] = aux.count(key)\n",
    "del aux\n",
    "\n",
    "set_of_words = list(set_of_words)\n",
    "print(\"Number of unique words:\", len(set_of_words))"
   ]
  },
  {
   "cell_type": "code",
   "execution_count": 7,
   "metadata": {},
   "outputs": [
    {
     "name": "stdout",
     "output_type": "stream",
     "text": [
      "Wall time: 2min 50s\n"
     ]
    }
   ],
   "source": [
    "%%time\n",
    "\n",
    "# Document-Term matrix\n",
    "# mydataframe = mydataframe.append(new_row, ignore_index=True)\n",
    "if os.path.exists(r'C:\\Users\\Tudor\\Desktop\\SentimentAnalysis\\doc_term.csv'):\n",
    "    doc_term = pd.read_csv(r'C:\\Users\\Tudor\\Desktop\\SentimentAnalysis\\doc_term.csv')\n",
    "    doc_term.drop('Unnamed: 0', axis=1, inplace=True)\n",
    "else:\n",
    "    doc_term = pd.DataFrame(columns = set_of_words)\n",
    "    for elem in df['text']:\n",
    "        row = [0 for _ in range(0, len(set_of_words))]\n",
    "        for word in elem:\n",
    "            row[set_of_words.index(word)] += 1\n",
    "        doc_term = doc_term.append(dict(zip(set_of_words, row)), ignore_index=True)\n",
    "\n",
    "    doc_term['is_humor'] = df['is_humor']\n",
    "    doc_term['humor_rating'] = df['humor_rating']\n",
    "    doc_term['humor_controversy'] = df['humor_controversy']\n",
    "    doc_term['offense_rating'] = df['offense_rating']\n",
    "    doc_term.to_csv(r'C:\\Users\\Tudor\\Desktop\\SentimentAnalysis\\doc_term.csv')\n",
    "    doc_term = pd.read_csv(r'C:\\Users\\Tudor\\Desktop\\SentimentAnalysis\\doc_term.csv')\n",
    "    doc_term.drop('Unnamed: 0', axis=1, inplace=True)\n",
    "\n",
    "    \n",
    "# One hot encoding\n",
    "one_hot = copy.deepcopy(doc_term)\n",
    "one_hot[one_hot.columns[:-4]] = one_hot[one_hot.columns[:-4]].apply(lambda line : list(map(lambda elem : 1 if elem >= 1 else 0, line)), axis=0)\n",
    "\n",
    "\n",
    "# tf-idf encoding \n",
    "tf_idf = pd.DataFrame(TfidfTransformer(smooth_idf=False, norm=None).fit_transform(doc_term[doc_term.columns[:-4]].values).toarray(),\n",
    "                           columns=doc_term.columns[:-4])\n",
    "for column in doc_term.columns[-4:]:\n",
    "    tf_idf[column] = list(doc_term[column])"
   ]
  },
  {
   "cell_type": "code",
   "execution_count": 8,
   "metadata": {},
   "outputs": [
    {
     "name": "stdout",
     "output_type": "stream",
     "text": [
      "Training set length: 6000\n",
      "Testing set length: 2000\n"
     ]
    }
   ],
   "source": [
    "doc_term_train, doc_term_test = train_test_split(doc_term, train_size=0.75, test_size=0.25, shuffle=True)\n",
    "\n",
    "one_hot_train = one_hot.loc[doc_term_train.index.tolist()]\n",
    "one_hot_test = one_hot.loc[doc_term_test.index.tolist()]\n",
    "\n",
    "tf_idf_train = tf_idf.loc[doc_term_train.index.tolist()]\n",
    "tf_idf_test = tf_idf.loc[doc_term_test.index.tolist()]\n",
    "\n",
    "print(\"Training set length:\", len(doc_term_train))\n",
    "print(\"Testing set length:\", len(doc_term_test))"
   ]
  },
  {
   "cell_type": "code",
   "execution_count": 9,
   "metadata": {},
   "outputs": [
    {
     "name": "stdout",
     "output_type": "stream",
     "text": [
      "[[ 0.00000000e+00  0.00000000e+00  0.00000000e+00  0.00000000e+00\n",
      "   0.00000000e+00]\n",
      " [ 6.82505608e-01  3.30545330e+00  1.34616280e+00  1.91640282e+00\n",
      "   5.99445724e+00]\n",
      " [ 5.76878488e-01  3.04251218e+00  1.56041646e+00  1.80877805e+00\n",
      "   5.80055475e+00]\n",
      " ...\n",
      " [ 7.65918642e-02 -2.09973957e-02 -4.45232019e-02  8.76998380e-02\n",
      "   1.17801100e-01]\n",
      " [ 1.82080995e-02 -6.42143115e-02  3.13242003e-02 -6.49258271e-02\n",
      "   8.20917860e-02]\n",
      " [ 7.21557662e-02 -1.09587493e-03  7.52589852e-02  1.23151913e-02\n",
      "  -8.23683515e-02]]\n",
      "\n",
      "0       [2087, 70, 228, 536, 76, 33, 290, 6004, 71, 23...\n",
      "1       [27, 6005, 4252, 6006, 9, 13, 143, 14, 609, 17...\n",
      "2       [83, 101, 18, 152, 446, 559, 152, 12, 215, 143...\n",
      "3       [6007, 216, 262, 4253, 300, 1553, 274, 476, 96...\n",
      "4       [2825, 391, 15, 686, 994, 2826, 841, 1207, 0, ...\n",
      "                              ...                        \n",
      "7995    [814, 802, 11446, 982, 886, 11447, 40, 18, 114...\n",
      "7996    [11449, 97, 39, 221, 0, 0, 0, 0, 0, 0, 0, 0, 0...\n",
      "7997    [56, 5881, 979, 1960, 3658, 515, 1103, 1729, 0...\n",
      "7998    [69, 371, 1995, 755, 994, 69, 4002, 280, 143, ...\n",
      "7999    [2630, 2621, 1226, 31, 2282, 834, 38, 210, 472...\n",
      "Name: text, Length: 8000, dtype: object\n"
     ]
    }
   ],
   "source": [
    "df_nn = copy.deepcopy(df)\n",
    "tokenizer = Tokenizer()\n",
    "'''\n",
    "fit_on_texts function -> Updates internal vocabulary based on a list of texts.\n",
    "# In the case where texts contain lists, we assume each entry of the lists to be a token.\n",
    "\n",
    "source -> https://www.tensorflow.org/api_docs/python/tf/keras/preprocessing/text/Tokenizer#fit_on_texts\n",
    "'''\n",
    "tokenizer.fit_on_texts(df_nn['text'])\n",
    "df_nn['text'] = tokenizer.texts_to_sequences(df_nn['text']) # assign unique integers (starting from 1) to words\n",
    "\n",
    "\n",
    "'''\n",
    " 1) Construct word2vec matrix; words are on lines and on columns I got the values of the word2vec vector for each word\n",
    " 2) Do the required padding of the texts in order to have same length sequences \n",
    "'''\n",
    "word_dimension = 5\n",
    "word2vec = gensim.models.Word2Vec(sentences=df['text'], size=word_dimension, min_count=1, workers=4)\n",
    "word2vec_matrix = np.zeros((len(set_of_words) + 1, word_dimension)) # + 1 because I also got an embedding for 0, the padded val\n",
    "for key, value in tokenizer.word_index.items():\n",
    "    word2vec_matrix[value] = word2vec.wv[key]\n",
    "pads = pad_sequences(df_nn['text'], maxlen=max([len(elem) for elem in df['text']]), padding='post', value=0.0) # pad the sequenes such that all sequences are of length equal to the longest sequence length \n",
    "df_nn['text'] = pads.tolist()\n",
    "print(word2vec_matrix)\n",
    "print()\n",
    "print(df_nn['text'])\n",
    "\n",
    "\n",
    "# '''\n",
    "#  Properly construct the training, testing sets for the Vanilla RNN \n",
    "# ''' \n",
    "\n",
    "# int_word_dict = dict([(value, key) for key, value in tokenizer.word_index.items()])\n",
    "\n",
    "# train_df_nn, test_df_nn = train_test_split(df_nn, train_size=0.80, test_size=0.20, shuffle=True)\n",
    "\n",
    "# X_train = []\n",
    "# for sentence in train_df_nn['text']:\n",
    "#     x = []\n",
    "#     x.insert(0, None)\n",
    "#     for elem in sentence:\n",
    "#         vec = np.zeros((len(set_of_words) + 1, 1))\n",
    "#         if elem != 0:\n",
    "#             vec[set_of_words.index(int_word_dict[elem])] = 1\n",
    "#         x.append(vec)\n",
    "#     X_train.append(x)\n",
    "\n",
    "# Y_train = []\n",
    "# for label in train_df_nn['is_humor']:    \n",
    "#     Y_train.append(np.array([label, 1 - label]).reshape((2, 1)))\n",
    "\n",
    "# X_test = []\n",
    "# for sentence in test_df_nn['text']:\n",
    "#     x = []\n",
    "#     x.insert(0, None)\n",
    "#     for elem in sentence:\n",
    "#         vec = np.zeros((len(set_of_words) + 1, 1))\n",
    "#         if elem != 0:\n",
    "#             vec[set_of_words.index(int_word_dict[elem])] = 1\n",
    "#         x.append(vec)\n",
    "#     X_test.append(x)\n",
    "\n",
    "# Y_test = []\n",
    "# for label in test_df_nn['is_humor']:    \n",
    "#     Y_test.append(np.array([label, 1 - label]).reshape((2, 1)))"
   ]
  },
  {
   "cell_type": "code",
   "execution_count": 10,
   "metadata": {},
   "outputs": [
    {
     "name": "stderr",
     "output_type": "stream",
     "text": [
      "ERROR:root:Internal Python error in the inspect module.\n",
      "Below is the traceback from this internal error.\n",
      "\n",
      "\n",
      "KeyboardInterrupt\n",
      "\n"
     ]
    }
   ],
   "source": [
    "class RNN_M2O:\n",
    "    #word_dim may be 'one-hot', 'bag-of-words', word_dimension(int value) \n",
    "    def __init__(self, nr_hls, neurons_per_layer, learning_rate, epochs, vocab, X, Y, word_dim):\n",
    "        self.nr_hls = nr_hls; self.neurons_per_layer = neurons_per_layer; self.etha = learning_rate; self.epochs = epochs;\n",
    "        self.vocab = vocab; self.X = X; self.Y = Y; self.word_dim = word_dim\n",
    "        \n",
    "        # verifies what we're using aka one hot, bag of words or word2vec encoding \n",
    "        aux_func = lambda check : self.word_dim if type(check) is int else len(self.vocab)\n",
    "        \n",
    "        self.s = [np.zeros((self.neurons_per_layer, 1)) for _ in range(0, self.nr_hls + 1)]\n",
    "        self.o = None\n",
    "        \n",
    "        self.W = np.random.normal(0, np.sqrt(1 / (self.neurons_per_layer - 1)), (self.neurons_per_layer, self.neurons_per_layer))\n",
    "        self.U = np.random.normal(0, np.sqrt(1 / (aux_func(self.word_dim) - 1)), (self.neurons_per_layer, aux_func(self.word_dim)))\n",
    "        self.V = np.random.normal(0, np.sqrt(1 / (self.neurons_per_layer - 1)), (2, self.neurons_per_layer))\n",
    "        \n",
    "    def relu(self, z):\n",
    "        return np.array([np.array(list(map(lambda e : max(0, e), line))) for line in z])\n",
    "    \n",
    "    def relu_deriv(self, z):\n",
    "        return  np.array([np.array(list(map(lambda e : 1 if e >=0 else 0.01 * e, line))) for line in z])\n",
    "    \n",
    "    def softmax(self, z):\n",
    "        return np.exp(z) / np.sum(np.exp(z), axis=0)\n",
    "    \n",
    "    def forward_propagation(self, X):\n",
    "        for i in range(1, len(X)):\n",
    "            z = np.dot(self.W, self.s[i - 1]) + np.dot(self.U, X[i])\n",
    "            self.s[i] = self.relu(z)\n",
    "        z = np.dot(self.V, self.s[i])\n",
    "        self.o = self.softmax(z)\n",
    "    \n",
    "    def back_propagation(self, X, Y):\n",
    "        error = self.o - Y\n",
    "        self.V -= self.etha * np.dot(error, self.s[-1].T)\n",
    "        \n",
    "        gradient_W = 0; gradient_U = 0\n",
    "        \n",
    "        error = np.multiply(np.dot(self.V.T, error), self.relu_deriv(self.s[-1]))\n",
    "        gradient_W += np.dot(error, self.s[-2].T)\n",
    "        gradient_U += np.dot(error, X[-1].T)\n",
    "\n",
    "        for i in range(len(X) - 2, 0, -1):\n",
    "            error = np.multiply(np.dot(self.W.T, error), self.relu_deriv(self.s[i]))\n",
    "            gradient_W += np.dot(error, self.s[i - 1].T)\n",
    "            gradient_U += np.dot(error, X[i].T)\n",
    "        \n",
    "        self.W -= self.etha * gradient_W\n",
    "        self.U -= self.etha * gradient_U\n",
    "        \n",
    "#         self.s[0] = copy.deepcopy(self.s[-1])\n",
    "        \n",
    "    def fit(self):\n",
    "        for epoch in range(0, self.epochs):\n",
    "            for i in range(0, len(self.X)):\n",
    "                self.forward_propagation(self.X[i])\n",
    "                self.back_propagation(self.X[i], self.Y[i])\n",
    "    \n",
    "    def predict(self, X, Y):\n",
    "        for x in X:\n",
    "            self.forward_propagation(x)\n",
    "            print(self.o)\n",
    "            break\n",
    "        \n",
    "obj = RNN_M2O(nr_hls=len(X_train[0])-1, neurons_per_layer=5, learning_rate=0.1, epochs=2, vocab=set_of_words, \n",
    "              X=X_train, Y=Y_train, \n",
    "              word_dim = word_dimension if encoding == 1 else 'bag-of-words' if one_hot_check == 0 else 'one-hot')\n",
    "obj.fit()\n",
    "# obj.predict()"
   ]
  },
  {
   "cell_type": "code",
   "execution_count": 137,
   "metadata": {},
   "outputs": [
    {
     "name": "stdout",
     "output_type": "stream",
     "text": [
      "[[0.5]\n",
      " [0.5]]\n"
     ]
    }
   ],
   "source": [
    "bla = 19\n",
    "obj.predict(X_test[bla:], Y_test[bla:])"
   ]
  },
  {
   "cell_type": "code",
   "execution_count": 11,
   "metadata": {},
   "outputs": [],
   "source": [
    "from tensorflow.keras.models import Sequential \n",
    "from tensorflow.keras.layers import Input, Embedding, GRU, LSTM, Dense, Flatten, LSTM, BatchNormalization, Dropout\n",
    "from tensorflow.keras.initializers import Constant\n",
    "\n",
    "\n",
    "model1 = Sequential(name=\"RNN1\")\n",
    "model1.add(Embedding(input_dim=len(set_of_words) + 1, \n",
    "                    output_dim=word_dimension,\n",
    "                    embeddings_initializer=Constant(word2vec_matrix),\n",
    "                    input_length=max([len(elem) for elem in df['text']]),\n",
    "                    trainable=True,\n",
    "                    name=\"Embedding_layer\")\n",
    "         )\n",
    "model1.add(GRU(units=10, return_sequences=True, name=\"GRU_layer_1\"))\n",
    "model1.add(GRU(units=10, return_sequences=True, name=\"GRU_layer_2\"))\n",
    "model1.add(GRU(units=10, name=\"GRU_layer_3\"))\n",
    "model1.add(Dense(2, activation=\"softmax\", name=\"ouput_layer\"))"
   ]
  },
  {
   "cell_type": "code",
   "execution_count": 12,
   "metadata": {},
   "outputs": [
    {
     "data": {
      "image/png": "[encoded data removed]",
      "text/plain": [
       "<IPython.core.display.Image object>"
      ]
     },
     "execution_count": 12,
     "metadata": {},
     "output_type": "execute_result"
    }
   ],
   "source": [
    "from tensorflow.keras.utils import plot_model\n",
    "plot_model(model1, show_shapes=True)"
   ]
  },
  {
   "cell_type": "code",
   "execution_count": 11,
   "metadata": {},
   "outputs": [
    {
     "name": "stdout",
     "output_type": "stream",
     "text": [
      "Train on 6400 samples, validate on 1600 samples\n",
      "Epoch 1/10\n",
      "6400/6400 - 90s - loss: 0.6666 - accuracy: 0.6180 - val_loss: 0.6711 - val_accuracy: 0.6056\n",
      "Epoch 2/10\n",
      "6400/6400 - 10s - loss: 0.6630 - accuracy: 0.6217 - val_loss: 0.6614 - val_accuracy: 0.6169\n",
      "Epoch 3/10\n",
      "6400/6400 - 12s - loss: 0.6353 - accuracy: 0.6547 - val_loss: 0.5753 - val_accuracy: 0.7131\n",
      "Epoch 4/10\n",
      "6400/6400 - 10s - loss: 0.4602 - accuracy: 0.7900 - val_loss: 0.4497 - val_accuracy: 0.7944\n",
      "Epoch 5/10\n",
      "6400/6400 - 10s - loss: 0.2910 - accuracy: 0.8836 - val_loss: 0.4189 - val_accuracy: 0.8131\n",
      "Epoch 6/10\n",
      "6400/6400 - 10s - loss: 0.1697 - accuracy: 0.9386 - val_loss: 0.5028 - val_accuracy: 0.8012\n",
      "Epoch 7/10\n",
      "6400/6400 - 10s - loss: 0.1050 - accuracy: 0.9622 - val_loss: 0.5714 - val_accuracy: 0.8012\n",
      "Epoch 8/10\n",
      "6400/6400 - 10s - loss: 0.0685 - accuracy: 0.9780 - val_loss: 0.6393 - val_accuracy: 0.8112\n",
      "Epoch 9/10\n",
      "6400/6400 - 10s - loss: 0.0480 - accuracy: 0.9852 - val_loss: 0.7164 - val_accuracy: 0.8087\n",
      "Epoch 10/10\n",
      "6400/6400 - 11s - loss: 0.0318 - accuracy: 0.9912 - val_loss: 0.9136 - val_accuracy: 0.8069\n"
     ]
    },
    {
     "data": {
      "text/plain": [
       "<tensorflow.python.keras.callbacks.History at 0x1f9b0a42b48>"
      ]
     },
     "execution_count": 11,
     "metadata": {},
     "output_type": "execute_result"
    }
   ],
   "source": [
    "model1.compile(loss=\"categorical_crossentropy\", optimizer=\"adam\", metrics=[\"accuracy\"])\n",
    "model1.fit(pads, pd.concat([df_nn['is_humor'], 1-df_nn['is_humor']], axis=1, keys=['is_humor', 'not_humor']), batch_size=10, epochs=10, verbose=2, validation_split=0.2)"
   ]
  },
  {
   "cell_type": "code",
   "execution_count": 16,
   "metadata": {},
   "outputs": [],
   "source": [
    "model2 = Sequential(name=\"RNN2\")\n",
    "model2.add(Embedding(input_dim=len(set_of_words) + 1, \n",
    "                    output_dim=word_dimension,\n",
    "                    embeddings_initializer=Constant(word2vec_matrix),\n",
    "                    input_length=max([len(elem) for elem in df['text']]),\n",
    "                    trainable=True,\n",
    "                    name=\"Embedding_layer\")\n",
    "         )\n",
    "model2.add(LSTM(units=10, return_sequences=True, name=\"LSTM_layer_1\"))\n",
    "model2.add(LSTM(units=10, return_sequences=True, name=\"LSTM_layer_2\"))\n",
    "model2.add(LSTM(units=10, name=\"LSTM_layer_3\"))\n",
    "model2.add(Dense(2, activation=\"softmax\", name=\"ouput_layer\"))"
   ]
  },
  {
   "cell_type": "code",
   "execution_count": 17,
   "metadata": {},
   "outputs": [
    {
     "name": "stdout",
     "output_type": "stream",
     "text": [
      "Train on 6400 samples, validate on 1600 samples\n",
      "Epoch 1/10\n",
      "6400/6400 - 25s - loss: 0.6540 - accuracy: 0.6381 - val_loss: 0.6248 - val_accuracy: 0.6712\n",
      "Epoch 2/10\n",
      "6400/6400 - 11s - loss: 0.4610 - accuracy: 0.7930 - val_loss: 0.4386 - val_accuracy: 0.7981\n",
      "Epoch 3/10\n",
      "6400/6400 - 11s - loss: 0.2479 - accuracy: 0.9014 - val_loss: 0.4699 - val_accuracy: 0.8156\n",
      "Epoch 4/10\n",
      "6400/6400 - 10s - loss: 0.1591 - accuracy: 0.9425 - val_loss: 0.5327 - val_accuracy: 0.8169\n",
      "Epoch 5/10\n",
      "6400/6400 - 11s - loss: 0.0986 - accuracy: 0.9669 - val_loss: 0.5601 - val_accuracy: 0.8219\n",
      "Epoch 6/10\n",
      "6400/6400 - 11s - loss: 0.0744 - accuracy: 0.9762 - val_loss: 0.6655 - val_accuracy: 0.8037\n",
      "Epoch 7/10\n",
      "6400/6400 - 11s - loss: 0.0534 - accuracy: 0.9850 - val_loss: 0.6242 - val_accuracy: 0.8112\n",
      "Epoch 8/10\n",
      "6400/6400 - 11s - loss: 0.0469 - accuracy: 0.9872 - val_loss: 0.7914 - val_accuracy: 0.8125\n",
      "Epoch 9/10\n",
      "6400/6400 - 12s - loss: 0.0389 - accuracy: 0.9895 - val_loss: 0.8288 - val_accuracy: 0.8100\n",
      "Epoch 10/10\n",
      "6400/6400 - 11s - loss: 0.0290 - accuracy: 0.9927 - val_loss: 0.8091 - val_accuracy: 0.8087\n"
     ]
    },
    {
     "data": {
      "text/plain": [
       "<tensorflow.python.keras.callbacks.History at 0x2808a6b6508>"
      ]
     },
     "execution_count": 17,
     "metadata": {},
     "output_type": "execute_result"
    }
   ],
   "source": [
    "model2.compile(loss=\"categorical_crossentropy\", optimizer=\"adam\", metrics=[\"accuracy\"])\n",
    "model2.fit(pads, pd.concat([df_nn['is_humor'], 1-df_nn['is_humor']], axis=1, keys=['is_humor', 'not_humor']), batch_size=10, epochs=10, verbose=2, validation_split=0.2)"
   ]
  },
  {
   "cell_type": "code",
   "execution_count": 18,
   "metadata": {},
   "outputs": [],
   "source": [
    "model3 = Sequential(name=\"RNN3\")\n",
    "model3.add(Embedding(input_dim=len(set_of_words) + 1, \n",
    "                    output_dim=word_dimension,\n",
    "                    embeddings_initializer=Constant(word2vec_matrix),\n",
    "                    input_length=max([len(elem) for elem in df['text']]),\n",
    "                    trainable=True,\n",
    "                    name=\"Embedding_layer\")\n",
    "         )\n",
    "model3.add(BatchNormalization())\n",
    "model3.add(GRU(units=10, return_sequences=True, name=\"GRU_layer_2\"))\n",
    "model3.add(BatchNormalization())\n",
    "model3.add(GRU(units=10, return_sequences=True, name=\"GRU_layer_3\"))\n",
    "model3.add(Dropout(rate=0.2))\n",
    "model3.add(BatchNormalization())\n",
    "model3.add(GRU(units=10, return_sequences=True, name=\"GRU_layer_4\"))\n",
    "model3.add(BatchNormalization())\n",
    "model3.add(GRU(units=10, name=\"GRU_layer_5\"))\n",
    "model3.add(Dense(2, activation=\"softmax\", name=\"ouput_layer\"))"
   ]
  },
  {
   "cell_type": "code",
   "execution_count": 22,
   "metadata": {},
   "outputs": [
    {
     "name": "stdout",
     "output_type": "stream",
     "text": [
      "Train on 6400 samples, validate on 1600 samples\n",
      "Epoch 1/10\n",
      "6400/6400 - 31s - loss: 0.6656 - accuracy: 0.6158 - val_loss: 0.7282 - val_accuracy: 0.3944\n",
      "Epoch 2/10\n",
      "6400/6400 - 13s - loss: 0.5265 - accuracy: 0.7406 - val_loss: 0.5811 - val_accuracy: 0.7031\n",
      "Epoch 3/10\n",
      "6400/6400 - 14s - loss: 0.2843 - accuracy: 0.8878 - val_loss: 0.4581 - val_accuracy: 0.8037\n",
      "Epoch 4/10\n",
      "6400/6400 - 13s - loss: 0.1440 - accuracy: 0.9513 - val_loss: 0.6147 - val_accuracy: 0.6050\n",
      "Epoch 5/10\n",
      "6400/6400 - 15s - loss: 0.0904 - accuracy: 0.9719 - val_loss: 0.7135 - val_accuracy: 0.7769\n",
      "Epoch 6/10\n",
      "6400/6400 - 14s - loss: 0.0617 - accuracy: 0.9806 - val_loss: 0.6011 - val_accuracy: 0.8019\n",
      "Epoch 7/10\n",
      "6400/6400 - 15s - loss: 0.0354 - accuracy: 0.9911 - val_loss: 0.8310 - val_accuracy: 0.8044\n",
      "Epoch 8/10\n",
      "6400/6400 - 14s - loss: 0.0300 - accuracy: 0.9923 - val_loss: 0.6625 - val_accuracy: 0.8031\n",
      "Epoch 9/10\n",
      "6400/6400 - 12s - loss: 0.0257 - accuracy: 0.9945 - val_loss: 0.9570 - val_accuracy: 0.7981\n",
      "Epoch 10/10\n",
      "6400/6400 - 13s - loss: 0.0321 - accuracy: 0.9902 - val_loss: 0.8371 - val_accuracy: 0.7981\n"
     ]
    },
    {
     "data": {
      "text/plain": [
       "<tensorflow.python.keras.callbacks.History at 0x2808f3055c8>"
      ]
     },
     "execution_count": 22,
     "metadata": {},
     "output_type": "execute_result"
    }
   ],
   "source": [
    "model3.compile(loss=\"categorical_crossentropy\", optimizer=\"adam\", metrics=[\"accuracy\"])\n",
    "model3.fit(pads, pd.concat([df_nn['is_humor'], 1-df_nn['is_humor']], axis=1, keys=['is_humor', 'not_humor']), batch_size=10, epochs=10, verbose=2, validation_split=0.2)"
   ]
  },
  {
   "cell_type": "code",
   "execution_count": 20,
   "metadata": {},
   "outputs": [],
   "source": [
    "model4 = Sequential(name=\"RNN4\")\n",
    "model4.add(Embedding(input_dim=len(set_of_words) + 1, \n",
    "                    output_dim=word_dimension,\n",
    "                    embeddings_initializer=Constant(word2vec_matrix),\n",
    "                    input_length=max([len(elem) for elem in df['text']]),\n",
    "                    trainable=True,\n",
    "                    name=\"Embedding_layer\")\n",
    "         )\n",
    "model4.add(GRU(units=10, return_sequences=True, name=\"GRU_layer_1\"))\n",
    "model4.add(BatchNormalization())\n",
    "model4.add(GRU(units=10, return_sequences=True, name=\"GRU_layer_2\"))\n",
    "model4.add(Dropout(rate=0.2))\n",
    "model4.add(GRU(units=10, return_sequences=True, name=\"GRU_layer_3\"))\n",
    "model4.add(BatchNormalization())\n",
    "model4.add(GRU(units=10, name=\"GRU_layer_4\"))\n",
    "model4.add(Dense(2, activation=\"softmax\", name=\"ouput_layer\"))"
   ]
  },
  {
   "cell_type": "code",
   "execution_count": 23,
   "metadata": {},
   "outputs": [
    {
     "name": "stdout",
     "output_type": "stream",
     "text": [
      "Train on 6400 samples, validate on 1600 samples\n",
      "Epoch 1/10\n",
      "6400/6400 - 38s - loss: 0.6677 - accuracy: 0.6191 - val_loss: 0.6694 - val_accuracy: 0.6050\n",
      "Epoch 2/10\n",
      "6400/6400 - 16s - loss: 0.6587 - accuracy: 0.6336 - val_loss: 0.6539 - val_accuracy: 0.6306\n",
      "Epoch 3/10\n",
      "6400/6400 - 16s - loss: 0.5169 - accuracy: 0.7530 - val_loss: 0.4719 - val_accuracy: 0.7669\n",
      "Epoch 4/10\n",
      "6400/6400 - 17s - loss: 0.2768 - accuracy: 0.8995 - val_loss: 0.4820 - val_accuracy: 0.7950\n",
      "Epoch 5/10\n",
      "6400/6400 - 16s - loss: 0.1650 - accuracy: 0.9466 - val_loss: 0.5629 - val_accuracy: 0.8112\n",
      "Epoch 6/10\n",
      "6400/6400 - 18s - loss: 0.1072 - accuracy: 0.9670 - val_loss: 0.6018 - val_accuracy: 0.8044\n",
      "Epoch 7/10\n",
      "6400/6400 - 18s - loss: 0.0681 - accuracy: 0.9831 - val_loss: 0.6557 - val_accuracy: 0.7962\n",
      "Epoch 8/10\n",
      "6400/6400 - 19s - loss: 0.0507 - accuracy: 0.9877 - val_loss: 0.7569 - val_accuracy: 0.8163\n",
      "Epoch 9/10\n",
      "6400/6400 - 19s - loss: 0.0396 - accuracy: 0.9895 - val_loss: 0.8157 - val_accuracy: 0.8031\n",
      "Epoch 10/10\n",
      "6400/6400 - 18s - loss: 0.0313 - accuracy: 0.9923 - val_loss: 0.8818 - val_accuracy: 0.7800\n"
     ]
    },
    {
     "data": {
      "text/plain": [
       "<tensorflow.python.keras.callbacks.History at 0x2808d92ce48>"
      ]
     },
     "execution_count": 23,
     "metadata": {},
     "output_type": "execute_result"
    }
   ],
   "source": [
    "model4.compile(loss=\"categorical_crossentropy\", optimizer=\"adam\", metrics=[\"accuracy\"])\n",
    "model4.fit(pads, pd.concat([df_nn['is_humor'], 1-df_nn['is_humor']], axis=1, keys=['is_humor', 'not_humor']), batch_size=10, epochs=10, verbose=2, validation_split=0.2)"
   ]
  },
  {
   "cell_type": "code",
   "execution_count": 31,
   "metadata": {},
   "outputs": [],
   "source": [
    "model5 = Sequential(name=\"RNN5\")\n",
    "model5.add(Embedding(input_dim=len(set_of_words) + 1, \n",
    "                    output_dim=word_dimension,\n",
    "                    embeddings_initializer=Constant(word2vec_matrix),\n",
    "                    input_length=max([len(elem) for elem in df['text']]),\n",
    "                    trainable=True,\n",
    "                    name=\"Embedding_layer\")\n",
    "         )\n",
    "model5.add(LSTM(units=50, return_sequences=False, name=\"GRU_layer_1\"))\n",
    "model5.add(Dropout(rate=0.2))\n",
    "model5.add(BatchNormalization())\n",
    "model5.add(Dense(2, activation=\"softmax\", name=\"ouput_layer\"))"
   ]
  },
  {
   "cell_type": "code",
   "execution_count": 32,
   "metadata": {},
   "outputs": [
    {
     "name": "stdout",
     "output_type": "stream",
     "text": [
      "Train on 6400 samples, validate on 1600 samples\n",
      "Epoch 1/10\n",
      "6400/6400 - 22s - loss: 0.6519 - accuracy: 0.6333 - val_loss: 0.6366 - val_accuracy: 0.6344\n",
      "Epoch 2/10\n",
      "6400/6400 - 10s - loss: 0.4087 - accuracy: 0.8167 - val_loss: 0.4036 - val_accuracy: 0.8306\n",
      "Epoch 3/10\n",
      "6400/6400 - 10s - loss: 0.2485 - accuracy: 0.9059 - val_loss: 0.5141 - val_accuracy: 0.8156\n",
      "Epoch 4/10\n",
      "6400/6400 - 10s - loss: 0.1868 - accuracy: 0.9342 - val_loss: 0.5198 - val_accuracy: 0.7544\n",
      "Epoch 5/10\n",
      "6400/6400 - 10s - loss: 0.1289 - accuracy: 0.9592 - val_loss: 0.7024 - val_accuracy: 0.7975\n",
      "Epoch 6/10\n",
      "6400/6400 - 11s - loss: 0.1086 - accuracy: 0.9678 - val_loss: 0.6805 - val_accuracy: 0.8150\n",
      "Epoch 7/10\n",
      "6400/6400 - 11s - loss: 0.0689 - accuracy: 0.9792 - val_loss: 0.9852 - val_accuracy: 0.8094\n",
      "Epoch 8/10\n",
      "6400/6400 - 11s - loss: 0.0706 - accuracy: 0.9831 - val_loss: 0.7043 - val_accuracy: 0.8125\n",
      "Epoch 9/10\n",
      "6400/6400 - 10s - loss: 0.0534 - accuracy: 0.9875 - val_loss: 1.1942 - val_accuracy: 0.8012\n",
      "Epoch 10/10\n",
      "6400/6400 - 10s - loss: 0.0537 - accuracy: 0.9856 - val_loss: 1.1563 - val_accuracy: 0.8031\n"
     ]
    },
    {
     "data": {
      "text/plain": [
       "<tensorflow.python.keras.callbacks.History at 0x280c26da8c8>"
      ]
     },
     "execution_count": 32,
     "metadata": {},
     "output_type": "execute_result"
    }
   ],
   "source": [
    "model5.compile(loss=\"categorical_crossentropy\", optimizer=\"adam\", metrics=[\"accuracy\"])\n",
    "model5.fit(pads, pd.concat([df_nn['is_humor'], 1-df_nn['is_humor']], axis=1, keys=['is_humor', 'not_humor']), batch_size=10, epochs=10, verbose=2, validation_split=0.2)"
   ]
  },
  {
   "cell_type": "code",
   "execution_count": 14,
   "metadata": {},
   "outputs": [
    {
     "name": "stdout",
     "output_type": "stream",
     "text": [
      "doc-term\n"
     ]
    }
   ],
   "source": [
    "encoding = input() #doc-term or tf-idf\n",
    "train_func = lambda enc : (doc_term_train[doc_term_train.columns[:-4]], doc_term_train[doc_term_train.columns[-4]]) \\\n",
    "                          if enc == 'doc_term' \\\n",
    "                          else \\\n",
    "                          (tf_idf_train[tf_idf_train.columns[:-4]], tf_idf_train[tf_idf_train.columns[-4]]) \\\n",
    "                          if enc == 'tf-idf' \\\n",
    "                          else \\\n",
    "                          (one_hot_train[one_hot_train.columns[:-4]], one_hot_train[one_hot_train.columns[-4]])\n",
    "        \n",
    "test_func = lambda enc : (doc_term_test[doc_term_test.columns[:-4]], doc_term_test[doc_term_test.columns[-4]]) \\\n",
    "                         if enc == 'doc_term' \\\n",
    "                         else \\\n",
    "                         (tf_idf_test[tf_idf_test.columns[:-4]], tf_idf_test[tf_idf_test.columns[-4]]) \\\n",
    "                         if enc == 'tf-idf' \\\n",
    "                         else \\\n",
    "                         (one_hot_test[one_hot_test.columns[:-4]], one_hot_test[one_hot_test.columns[-4]])\n",
    "\n",
    "X_train, Y_train = train_func(encoding)\n",
    "X_test, Y_test = test_func(encoding)"
   ]
  },
  {
   "cell_type": "code",
   "execution_count": 15,
   "metadata": {},
   "outputs": [
    {
     "name": "stdout",
     "output_type": "stream",
     "text": [
      "Accuracy with MultinomialNB, doc-term encoding: 0.838\n"
     ]
    }
   ],
   "source": [
    "#Laplace smoothing,  alpha is a smoothing hyperparameter\n",
    "multinomialNB_clf = MultinomialNB(alpha=1)\n",
    "multinomialNB_clf.fit(X_train, Y_train)\n",
    "multinomialNB_predictions = multinomialNB_clf.predict(X_test)\n",
    "print(\"Accuracy with MultinomialNB, \" + encoding + \" encoding:\" , accuracy_score(Y_test, multinomialNB_predictions))"
   ]
  },
  {
   "cell_type": "code",
   "execution_count": 16,
   "metadata": {},
   "outputs": [
    {
     "name": "stdout",
     "output_type": "stream",
     "text": [
      "Accuracy with CNB, doc-term encoding: 0.835\n"
     ]
    }
   ],
   "source": [
    "complementNB_clf = ComplementNB(alpha=1)\n",
    "complementNB_clf.fit(X_train, Y_train)\n",
    "complementNB_predictions = complementNB_clf.predict(X_test)\n",
    "print(\"Accuracy with CNB, \" + encoding + \" encoding:\", accuracy_score(Y_test, complementNB_predictions))"
   ]
  },
  {
   "cell_type": "code",
   "execution_count": 17,
   "metadata": {},
   "outputs": [
    {
     "name": "stdout",
     "output_type": "stream",
     "text": [
      "Accuracy with BNB, doc-term encoding: 0.809\n"
     ]
    }
   ],
   "source": [
    "bernoulliNB_clf = BernoulliNB(alpha=1, binarize=None)\n",
    "bernoulliNB_clf.fit(X_train, Y_train)\n",
    "bernoulliNB_predictions = bernoulliNB_clf.predict(X_test)\n",
    "print(\"Accuracy with BNB, \" + encoding + \" encoding:\", accuracy_score(Y_test, bernoulliNB_predictions))"
   ]
  },
  {
   "cell_type": "code",
   "execution_count": 42,
   "metadata": {},
   "outputs": [
    {
     "name": "stdout",
     "output_type": "stream",
     "text": [
      "[LibSVM]Accuracy with SVM linear kernel, doc-term encoding: 0.8085\n",
      "Wall time: 25min 11s\n"
     ]
    }
   ],
   "source": [
    "%%time\n",
    "svm_linear_clf = SVC(C=1, kernel='linear', cache_size=1000, probability=True, verbose=True)\n",
    "svm_linear_clf.fit(X_train, Y_train)\n",
    "svm_linear_predictions = svm_linear_clf.predict(X_test)\n",
    "print(\"Accuracy with SVM linear kernel, \" + encoding + \" encoding:\", accuracy_score(Y_test, svm_linear_predictions))"
   ]
  },
  {
   "cell_type": "code",
   "execution_count": 21,
   "metadata": {},
   "outputs": [
    {
     "name": "stderr",
     "output_type": "stream",
     "text": [
      "C:\\Users\\Tudor\\Anaconda3\\lib\\site-packages\\sklearn\\model_selection\\_split.py:1978: FutureWarning: The default value of cv will change from 3 to 5 in version 0.22. Specify it explicitly to silence this warning.\n",
      "  warnings.warn(CV_WARNING, FutureWarning)\n"
     ]
    },
    {
     "name": "stdout",
     "output_type": "stream",
     "text": [
      "Wall time: 16min 56s\n"
     ]
    },
    {
     "data": {
      "text/html": [
       "<div>\n",
       "<style scoped>\n",
       "    .dataframe tbody tr th:only-of-type {\n",
       "        vertical-align: middle;\n",
       "    }\n",
       "\n",
       "    .dataframe tbody tr th {\n",
       "        vertical-align: top;\n",
       "    }\n",
       "\n",
       "    .dataframe thead th {\n",
       "        text-align: right;\n",
       "    }\n",
       "</style>\n",
       "<table border=\"1\" class=\"dataframe\">\n",
       "  <thead>\n",
       "    <tr style=\"text-align: right;\">\n",
       "      <th></th>\n",
       "      <th>mean_fit_time</th>\n",
       "      <th>std_fit_time</th>\n",
       "      <th>mean_score_time</th>\n",
       "      <th>std_score_time</th>\n",
       "      <th>param_C</th>\n",
       "      <th>param_class_weight</th>\n",
       "      <th>param_degree</th>\n",
       "      <th>param_gamma</th>\n",
       "      <th>param_kernel</th>\n",
       "      <th>params</th>\n",
       "      <th>split0_test_score</th>\n",
       "      <th>split1_test_score</th>\n",
       "      <th>split2_test_score</th>\n",
       "      <th>mean_test_score</th>\n",
       "      <th>std_test_score</th>\n",
       "      <th>rank_test_score</th>\n",
       "    </tr>\n",
       "  </thead>\n",
       "  <tbody>\n",
       "    <tr>\n",
       "      <td>0</td>\n",
       "      <td>305.852093</td>\n",
       "      <td>0.217582</td>\n",
       "      <td>168.346609</td>\n",
       "      <td>0.225475</td>\n",
       "      <td>49.2233</td>\n",
       "      <td>balanced</td>\n",
       "      <td>3</td>\n",
       "      <td>0.0368438</td>\n",
       "      <td>poly</td>\n",
       "      <td>{'C': 49.22331429936439, 'class_weight': 'bala...</td>\n",
       "      <td>0.665167</td>\n",
       "      <td>0.662</td>\n",
       "      <td>0.661331</td>\n",
       "      <td>0.662833</td>\n",
       "      <td>0.001674</td>\n",
       "      <td>1</td>\n",
       "    </tr>\n",
       "  </tbody>\n",
       "</table>\n",
       "</div>"
      ],
      "text/plain": [
       "   mean_fit_time  std_fit_time  mean_score_time  std_score_time  param_C  \\\n",
       "0     305.852093      0.217582       168.346609        0.225475  49.2233   \n",
       "\n",
       "  param_class_weight param_degree param_gamma param_kernel  \\\n",
       "0           balanced            3   0.0368438         poly   \n",
       "\n",
       "                                              params  split0_test_score  \\\n",
       "0  {'C': 49.22331429936439, 'class_weight': 'bala...           0.665167   \n",
       "\n",
       "   split1_test_score  split2_test_score  mean_test_score  std_test_score  \\\n",
       "0              0.662           0.661331         0.662833        0.001674   \n",
       "\n",
       "   rank_test_score  \n",
       "0                1  "
      ]
     },
     "execution_count": 21,
     "metadata": {},
     "output_type": "execute_result"
    }
   ],
   "source": [
    "%%time\n",
    "grid_search = RandomizedSearchCV(estimator = SVC(), \n",
    "                                 param_distributions = {'C' : scipy.stats.expon(scale=100), \n",
    "                                                        'kernel': ['poly', 'rbf'],\n",
    "                                                        'degree': [2, 3],\n",
    "                                                        'gamma': scipy.stats.expon(scale=.1),\n",
    "                                                        'class_weight': ['balanced', None]},\n",
    "                                 n_iter = 1,\n",
    "                                 scoring = 'accuracy', \n",
    "                                 n_jobs = -1,\n",
    "                                 cv = None\n",
    "                                )\n",
    "grid_search.fit(X_train, Y_train)\n",
    "r = pd.DataFrame(grid_search.cv_results_)\n",
    "r[r['rank_test_score'] == 1]"
   ]
  },
  {
   "cell_type": "code",
   "execution_count": 46,
   "metadata": {},
   "outputs": [
    {
     "name": "stdout",
     "output_type": "stream",
     "text": [
      "------------------------------- ROC Curve --------------------------------------------------------------\n"
     ]
    },
    {
     "data": {
      "image/png": "[encoded data removed]",
      "text/plain": [
       "<Figure size 432x288 with 1 Axes>"
      ]
     },
     "metadata": {
      "needs_background": "light"
     },
     "output_type": "display_data"
    },
    {
     "name": "stdout",
     "output_type": "stream",
     "text": [
      "AUC for MultinomialNB: 0.900652\n",
      "AUC for ComplementNB: 0.900652\n",
      "AUC for BernoulliNB: 0.901239\n",
      "AUC for Linear SVM: 0.882237\n"
     ]
    }
   ],
   "source": [
    "print(\"------------------------------- ROC Curve --------------------------------------------------------------\")\n",
    "fpr, tpr, thresholds = roc_curve(Y_test, multinomialNB_clf.predict_proba(X_test)[:, 1])\n",
    "fpr2, tpr2, thresholds2 = roc_curve(Y_test, complementNB_clf.predict_proba(X_test)[:, 1])\n",
    "fpr3, tpr3, thresholds3 = roc_curve(Y_test, bernoulliNB_clf.predict_proba(X_test)[:, 1])\n",
    "fpr4, tpr4, thresholds4 = roc_curve(Y_test, svm_linear_clf.predict_proba(X_test)[:, 1])\n",
    "\n",
    "plt.plot(fpr, tpr, label = \"ROC curve\")\n",
    "plt.plot(fpr2, tpr2, label = \"ROC curve\")\n",
    "plt.plot(fpr3, tpr3, label = \"ROC curve\")\n",
    "plt.plot(fpr4, tpr4, label = \"ROC curve\")\n",
    "\n",
    "plt.legend([\"MultinomialNB\", \"ComplementNB\", \"BernoulliNB\", \"Linear SVM\"])\n",
    "plt.plot([0, 1], [0, 1], 'k--')\n",
    "plt.xlabel(\"False Positive Rate\")\n",
    "plt.ylabel(\"True Positive Rate\")\n",
    "plt.show()\n",
    "\n",
    "print(\"AUC for MultinomialNB: %f\" % (roc_auc_score(Y_test, multinomialNB_clf.predict_proba(X_test)[:, 1])))\n",
    "print(\"AUC for ComplementNB: %f\" % (roc_auc_score(Y_test, complementNB_clf.predict_proba(X_test)[:, 1])))\n",
    "print(\"AUC for BernoulliNB: %f\" % (roc_auc_score(Y_test, bernoulliNB_clf.predict_proba(X_test)[:, 1])))\n",
    "print(\"AUC for Linear SVM: %f\" % (roc_auc_score(Y_test, svm_linear_clf.predict_proba(X_test)[:, 1])))"
   ]
  },
  {
   "cell_type": "code",
   "execution_count": 15,
   "metadata": {},
   "outputs": [
    {
     "name": "stdout",
     "output_type": "stream",
     "text": [
      "---------------------------- MultinomialNB --------------------------------------------\n",
      "Number of mislabeled points out of a total 2000 points : 307\n",
      "The accuracy score is : 0.846500\n",
      "[[ 553  207]\n",
      " [ 100 1140]]\n",
      "              precision    recall  f1-score   support\n",
      "\n",
      "           0       0.85      0.73      0.78       760\n",
      "           1       0.85      0.92      0.88      1240\n",
      "\n",
      "    accuracy                           0.85      2000\n",
      "   macro avg       0.85      0.82      0.83      2000\n",
      "weighted avg       0.85      0.85      0.84      2000\n",
      "\n",
      "Balanced accuacy score:  0.823493208828523\n"
     ]
    }
   ],
   "source": [
    "print('---------------------------- MultinomialNB --------------------------------------------')\n",
    "print(\"Number of mislabeled points out of a total %d points : %d\" % (X_test.shape[0], (Y_test != multinomialNB_predictions).sum()))\n",
    "print(\"The accuracy score is : %f\" % (accuracy_score(Y_test, multinomialNB_predictions)))\n",
    "cm = confusion_matrix(Y_test, multinomialNB_predictions)\n",
    "print(cm)\n",
    "print(classification_report(Y_test, multinomialNB_predictions))\n",
    "print(\"Balanced accuacy score: \", sklearn.metrics.balanced_accuracy_score(Y_test, multinomialNB_predictions))"
   ]
  },
  {
   "cell_type": "code",
   "execution_count": 18,
   "metadata": {},
   "outputs": [
    {
     "name": "stdout",
     "output_type": "stream",
     "text": [
      "---------------------------- ComplementNB --------------------------------------------\n",
      "Number of mislabeled points out of a total 2000 points : 330\n",
      "The accuracy score is : 0.835000\n",
      "[[ 580  177]\n",
      " [ 153 1090]]\n",
      "              precision    recall  f1-score   support\n",
      "\n",
      "           0       0.79      0.77      0.78       757\n",
      "           1       0.86      0.88      0.87      1243\n",
      "\n",
      "    accuracy                           0.83      2000\n",
      "   macro avg       0.83      0.82      0.82      2000\n",
      "weighted avg       0.83      0.83      0.83      2000\n",
      "\n",
      "Balanced accuacy score:  0.8215464992332226\n"
     ]
    }
   ],
   "source": [
    "print('---------------------------- ComplementNB --------------------------------------------')\n",
    "print(\"Number of mislabeled points out of a total %d points : %d\" % (X_test.shape[0], (Y_test != complementNB_predictions).sum()))\n",
    "print(\"The accuracy score is : %f\" % (accuracy_score(Y_test, complementNB_predictions)))\n",
    "cm = confusion_matrix(Y_test, complementNB_predictions)\n",
    "print(cm)\n",
    "print(classification_report(Y_test, complementNB_predictions))\n",
    "print(\"Balanced accuacy score: \", sklearn.metrics.balanced_accuracy_score(Y_test, complementNB_predictions))"
   ]
  },
  {
   "cell_type": "code",
   "execution_count": 19,
   "metadata": {},
   "outputs": [
    {
     "name": "stdout",
     "output_type": "stream",
     "text": [
      "---------------------------- BernoulliNB --------------------------------------------\n",
      "Number of mislabeled points out of a total 2000 points : 382\n",
      "The accuracy score is : 0.809000\n",
      "[[ 438  319]\n",
      " [  63 1180]]\n",
      "              precision    recall  f1-score   support\n",
      "\n",
      "           0       0.87      0.58      0.70       757\n",
      "           1       0.79      0.95      0.86      1243\n",
      "\n",
      "    accuracy                           0.81      2000\n",
      "   macro avg       0.83      0.76      0.78      2000\n",
      "weighted avg       0.82      0.81      0.80      2000\n",
      "\n",
      "Balanced accuacy score:  0.7639579531771581\n"
     ]
    }
   ],
   "source": [
    "print('---------------------------- BernoulliNB --------------------------------------------')\n",
    "print(\"Number of mislabeled points out of a total %d points : %d\" % (X_test.shape[0], (Y_test != bernoulliNB_predictions).sum()))\n",
    "print(\"The accuracy score is : %f\" % (accuracy_score(Y_test, bernoulliNB_predictions)))\n",
    "cm = confusion_matrix(Y_test, bernoulliNB_predictions)\n",
    "print(cm)\n",
    "print(classification_report(Y_test, bernoulliNB_predictions))\n",
    "print(\"Balanced accuacy score: \", sklearn.metrics.balanced_accuracy_score(Y_test, bernoulliNB_predictions))"
   ]
  }
 ],
 "metadata": {
  "kernelspec": {
   "display_name": "Python 3",
   "language": "python",
   "name": "python3"
  },
  "language_info": {
   "codemirror_mode": {
    "name": "ipython",
    "version": 3
   },
   "file_extension": ".py",
   "mimetype": "text/x-python",
   "name": "python",
   "nbconvert_exporter": "python",
   "pygments_lexer": "ipython3",
   "version": "3.7.4"
  }
 },
 "nbformat": 4,
 "nbformat_minor": 2
}
