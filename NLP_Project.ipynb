{
 "cells": [
  {
   "cell_type": "code",
   "execution_count": 1,
   "metadata": {},
   "outputs": [],
   "source": [
    "import pandas as pd\n",
    "import numpy as np\n",
    "import scipy\n",
    "import sklearn\n",
    "import ast\n",
    "import nltk\n",
    "import copy\n",
    "import tqdm\n",
    "import os\n",
    "import gensim\n",
    "import re\n",
    "\n",
    "from nltk.stem import WordNetLemmatizer \n",
    "from nltk import pos_tag #Penn Treebank tag set\n",
    "from nltk.corpus import wordnet as wn \n",
    "from nltk.corpus import stopwords\n",
    "from nltk.corpus import words\n",
    "from sklearn.feature_extraction.text import TfidfTransformer\n",
    "\n",
    "from sklearn.model_selection import train_test_split, RandomizedSearchCV\n",
    "from sklearn.preprocessing import StandardScaler\n",
    "from sklearn.naive_bayes import MultinomialNB, ComplementNB, BernoulliNB\n",
    "from sklearn.linear_model import LogisticRegression\n",
    "from sklearn.pipeline import Pipeline\n",
    "from sklearn.svm import SVC\n",
    "\n",
    "import matplotlib.pyplot as plt\n",
    "\n",
    "from sklearn.metrics import roc_curve\n",
    "from sklearn.metrics import roc_auc_score\n",
    "from sklearn.metrics import accuracy_score, confusion_matrix, classification_report\n",
    "\n",
    "import tensorflow\n",
    "\n",
    "from tensorflow.keras.preprocessing.text import Tokenizer\n",
    "from tensorflow.keras.preprocessing.sequence import pad_sequences"
   ]
  },
  {
   "cell_type": "code",
   "execution_count": 2,
   "metadata": {},
   "outputs": [],
   "source": [
    "tensorflow.config.experimental.set_memory_growth(tensorflow.config.experimental.list_physical_devices('GPU')[0], True)"
   ]
  },
  {
   "cell_type": "code",
   "execution_count": 3,
   "metadata": {},
   "outputs": [
    {
     "data": {
      "text/html": [
       "<div>\n",
       "<style scoped>\n",
       "    .dataframe tbody tr th:only-of-type {\n",
       "        vertical-align: middle;\n",
       "    }\n",
       "\n",
       "    .dataframe tbody tr th {\n",
       "        vertical-align: top;\n",
       "    }\n",
       "\n",
       "    .dataframe thead th {\n",
       "        text-align: right;\n",
       "    }\n",
       "</style>\n",
       "<table border=\"1\" class=\"dataframe\">\n",
       "  <thead>\n",
       "    <tr style=\"text-align: right;\">\n",
       "      <th></th>\n",
       "      <th>id</th>\n",
       "      <th>text</th>\n",
       "      <th>is_humor</th>\n",
       "      <th>humor_rating</th>\n",
       "      <th>humor_controversy</th>\n",
       "      <th>offense_rating</th>\n",
       "    </tr>\n",
       "  </thead>\n",
       "  <tbody>\n",
       "    <tr>\n",
       "      <td>0</td>\n",
       "      <td>1</td>\n",
       "      <td>TENNESSEE: We're the best state. Nobody even c...</td>\n",
       "      <td>1</td>\n",
       "      <td>2.42</td>\n",
       "      <td>1.0</td>\n",
       "      <td>0.2</td>\n",
       "    </tr>\n",
       "    <tr>\n",
       "      <td>1</td>\n",
       "      <td>2</td>\n",
       "      <td>A man inserted an advertisement in the classif...</td>\n",
       "      <td>1</td>\n",
       "      <td>2.50</td>\n",
       "      <td>1.0</td>\n",
       "      <td>1.1</td>\n",
       "    </tr>\n",
       "    <tr>\n",
       "      <td>2</td>\n",
       "      <td>3</td>\n",
       "      <td>How many men does it take to open a can of bee...</td>\n",
       "      <td>1</td>\n",
       "      <td>1.95</td>\n",
       "      <td>0.0</td>\n",
       "      <td>2.4</td>\n",
       "    </tr>\n",
       "    <tr>\n",
       "      <td>3</td>\n",
       "      <td>4</td>\n",
       "      <td>Told my mom I hit 1200 Twitter followers. She ...</td>\n",
       "      <td>1</td>\n",
       "      <td>2.11</td>\n",
       "      <td>1.0</td>\n",
       "      <td>0.0</td>\n",
       "    </tr>\n",
       "    <tr>\n",
       "      <td>4</td>\n",
       "      <td>5</td>\n",
       "      <td>Roses are dead. Love is fake. Weddings are bas...</td>\n",
       "      <td>1</td>\n",
       "      <td>2.78</td>\n",
       "      <td>0.0</td>\n",
       "      <td>0.1</td>\n",
       "    </tr>\n",
       "  </tbody>\n",
       "</table>\n",
       "</div>"
      ],
      "text/plain": [
       "   id                                               text  is_humor  \\\n",
       "0   1  TENNESSEE: We're the best state. Nobody even c...         1   \n",
       "1   2  A man inserted an advertisement in the classif...         1   \n",
       "2   3  How many men does it take to open a can of bee...         1   \n",
       "3   4  Told my mom I hit 1200 Twitter followers. She ...         1   \n",
       "4   5  Roses are dead. Love is fake. Weddings are bas...         1   \n",
       "\n",
       "   humor_rating  humor_controversy  offense_rating  \n",
       "0          2.42                1.0             0.2  \n",
       "1          2.50                1.0             1.1  \n",
       "2          1.95                0.0             2.4  \n",
       "3          2.11                1.0             0.0  \n",
       "4          2.78                0.0             0.1  "
      ]
     },
     "execution_count": 3,
     "metadata": {},
     "output_type": "execute_result"
    }
   ],
   "source": [
    "df = pd.read_csv(r'C:\\Users\\Tudor\\Desktop\\SentimentAnalysis\\train.csv')\n",
    "original = copy.deepcopy(df)\n",
    "df.head(5)"
   ]
  },
  {
   "cell_type": "code",
   "execution_count": 4,
   "metadata": {},
   "outputs": [
    {
     "name": "stdout",
     "output_type": "stream",
     "text": [
      "Offense texts: 3068\n",
      "Humor texts: 4932\n",
      "Total texts: 8000\n"
     ]
    }
   ],
   "source": [
    "# A little bit imbalanced\n",
    "print(\"Offense texts:\", df['is_humor'][df['is_humor'] == 0].count())\n",
    "print(\"Humor texts:\", df['is_humor'][df['is_humor'] == 1].count())\n",
    "print(\"Total texts:\", len(df))"
   ]
  },
  {
   "cell_type": "code",
   "execution_count": 5,
   "metadata": {},
   "outputs": [],
   "source": [
    "balanced = True\n",
    "if balanced == False:\n",
    "    data_frames = [df[df['is_humor'] == 1].sample(3068), df[df['is_humor'] == 0]]\n",
    "    new_df = pd.concat(data_frames, sort=False)\n",
    "    new_df.reset_index(drop=True, inplace=True)\n",
    "    print(\"Offense texts:\", new_df['is_humor'][new_df['is_humor'] == 0].count())\n",
    "    print(\"Humor texts:\", new_df['is_humor'][new_df['is_humor'] == 1].count())\n",
    "    print(\"Total texts:\", len(new_df))\n",
    "    df = copy.deepcopy(new_df)"
   ]
  },
  {
   "cell_type": "code",
   "execution_count": null,
   "metadata": {},
   "outputs": [],
   "source": [
    "%%time\n",
    "\n",
    "# Lower all texts\n",
    "df['text'] = df['text'].apply(lambda elem : elem.lower())\n",
    "\n",
    "# Tokenize the texts into words\n",
    "df['text'] = df['text'].apply(lambda elem : nltk.tokenize.word_tokenize(elem))\n",
    "\n",
    "# [state-of-the-art] [#, rezist]\n",
    "\n",
    "\n",
    "def my_func(elem):\n",
    "    global new_l\n",
    "    if re.search(\"\\*\", elem):\n",
    "        new_l.extend(list(filter(lambda e : e != '', re.split(\"\\*\", elem))))\n",
    "    elif re.search(\"=\", elem):\n",
    "        new_l.extend(list(filter(lambda e : e != '', re.split(\"=\", elem))))\n",
    "    elif re.search(\"~\", elem):\n",
    "        new_l.extend(list(filter(lambda e : e != '', re.split(\"~\", elem))))\n",
    "    elif re.search(\"#\", elem):\n",
    "        new_l.extend(list(filter(lambda e : e != '', re.split(\"#\", elem))))\n",
    "    elif re.search(\"\\$\", elem):\n",
    "        new_l.extend(list(filter(lambda e : e != '', re.split(\"\\$\", elem))))\n",
    "    elif re.search(\"@\", elem):\n",
    "        new_l.extend(list(filter(lambda e : e != '', re.split(\"@\", elem))))\n",
    "    elif re.search(\"\\\"\", elem):\n",
    "        new_l.extend(list(filter(lambda e : e != '', re.split(\"\\\"\", elem))))\n",
    "    elif re.search(\"\\-\", elem):\n",
    "        sir = \"\"\n",
    "        for _ in list(filter(lambda e : e != '', re.split(\"-\", elem))):\n",
    "            sir += _\n",
    "        if sir in words.words():\n",
    "            new_l.append(sir)\n",
    "        else:\n",
    "            new_l.extend(list(filter(lambda e : e != '', re.split(\"-\", elem))))\n",
    "    else:\n",
    "        new_l.append(elem)\n",
    "\n",
    "l = []\n",
    "for i in range(0, len(df['text'])):\n",
    "    if re.search(\"[\\*#~=\\$@\\-]\", ''.join(df.loc[i]['text'])):\n",
    "        new_l = []\n",
    "        for elem in df.loc[i]['text']:    \n",
    "            my_func(elem)\n",
    "        aux_new_l = df.loc[i]['text']\n",
    "        while new_l != aux_new_l:\n",
    "            aux_new_l = copy.deepcopy(new_l)\n",
    "            new_l = []\n",
    "            for elem in aux_new_l:\n",
    "                my_func(elem)\n",
    "        l.append(new_l)\n",
    "    else:\n",
    "        l.append(df.loc[i]['text'])\n",
    "df['text'] = l\n",
    "\n",
    "\n",
    "# Remove non alphanumeric words \n",
    "df['text'] = df['text'].apply(lambda elem : [word for word in elem if word.isalnum()])\n",
    "\n",
    "# https://stackoverflow.com/questions/25534214/nltk-wordnet-lemmatizer-shouldnt-it-lemmatize-all-inflections-of-a-word\n",
    "# The above link explains the following\n",
    "# Keep only the canonical forms of the words \n",
    "tag_to_pos = lambda elem : elem.lower() if elem in ['N', 'V', 'R'] else 'a'\n",
    "df['text'] = df['text'].apply(lambda elem : [nltk.stem.WordNetLemmatizer().lemmatize(word=word_pos[0], pos=tag_to_pos(word_pos[1][0]))\n",
    "                                             if word_pos[1][0] in ('N', 'V', 'R', 'J') #if NOUN, VERB, ADVERB, ADJ\n",
    "                                             else word_pos[0] \n",
    "                                             for word_pos in nltk.pos_tag(elem)])\n",
    "\n",
    "# Get rid of stopwords (eg: the, is, at etc)\n",
    "stopWords = set(stopwords.words('english'))\n",
    "df['text'] = df['text'].apply(lambda elem : [word for word in elem if word not in stopWords])\n",
    "\n",
    "# Make a set of all the unique words in the dataframe (might be useful later)\n",
    "set_of_words = set()\n",
    "aux = []\n",
    "for elem in df['text']:\n",
    "    set_of_words.update(elem)\n",
    "    aux.extend(elem)\n",
    "\n",
    "# Make a dictionary of words so that you know how many times each word appears in the dataframe (might be useful later)\n",
    "d_of_words = dict(zip(set_of_words, [0 for _ in range(0, len(set_of_words))]))\n",
    "for key in d_of_words.keys():\n",
    "    d_of_words[key] = aux.count(key)\n",
    "del aux\n",
    "\n",
    "set_of_words = list(set_of_words)\n",
    "print(\"Number of unique words:\", len(set_of_words))"
   ]
  },
  {
   "cell_type": "code",
   "execution_count": 7,
   "metadata": {},
   "outputs": [
    {
     "name": "stdout",
     "output_type": "stream",
     "text": [
      "Wall time: 2min 7s\n"
     ]
    }
   ],
   "source": [
    "%%time\n",
    "\n",
    "# Document-Term matrix\n",
    "# mydataframe = mydataframe.append(new_row, ignore_index=True)\n",
    "if os.path.exists(r'C:\\Users\\Tudor\\Desktop\\SentimentAnalysis\\doc_term.csv'):\n",
    "    doc_term = pd.read_csv(r'C:\\Users\\Tudor\\Desktop\\SentimentAnalysis\\doc_term.csv')\n",
    "    doc_term.drop('Unnamed: 0', axis=1, inplace=True)\n",
    "else:\n",
    "    doc_term = pd.DataFrame(columns = set_of_words)\n",
    "    for elem in df['text']:\n",
    "        row = [0 for _ in range(0, len(set_of_words))]\n",
    "        for word in elem:\n",
    "            row[set_of_words.index(word)] += 1\n",
    "        doc_term = doc_term.append(dict(zip(set_of_words, row)), ignore_index=True)\n",
    "\n",
    "    doc_term['is_humor'] = df['is_humor']\n",
    "    doc_term['humor_rating'] = df['humor_rating']\n",
    "    doc_term['humor_controversy'] = df['humor_controversy']\n",
    "    doc_term['offense_rating'] = df['offense_rating']\n",
    "    doc_term.to_csv(r'C:\\Users\\Tudor\\Desktop\\SentimentAnalysis\\doc_term.csv')\n",
    "    doc_term = pd.read_csv(r'C:\\Users\\Tudor\\Desktop\\SentimentAnalysis\\doc_term.csv')\n",
    "    doc_term.drop('Unnamed: 0', axis=1, inplace=True)\n",
    "\n",
    "    \n",
    "# One hot encoding\n",
    "one_hot = copy.deepcopy(doc_term)\n",
    "one_hot[one_hot.columns[:-4]] = one_hot[one_hot.columns[:-4]].apply(lambda line : list(map(lambda elem : 1 if elem >= 1 else 0, line)), axis=0)\n",
    "\n",
    "\n",
    "# tf-idf encoding \n",
    "tf_idf = pd.DataFrame(TfidfTransformer(smooth_idf=False, norm=None).fit_transform(doc_term[doc_term.columns[:-4]].values).toarray(),\n",
    "                           columns=doc_term.columns[:-4])\n",
    "for column in doc_term.columns[-4:]:\n",
    "    tf_idf[column] = list(doc_term[column])"
   ]
  },
  {
   "cell_type": "code",
   "execution_count": 8,
   "metadata": {},
   "outputs": [
    {
     "name": "stdout",
     "output_type": "stream",
     "text": [
      "Training set length: 6000\n",
      "Testing set length: 2000\n"
     ]
    }
   ],
   "source": [
    "doc_term_train, doc_term_test = train_test_split(doc_term, train_size=0.75, test_size=0.25, shuffle=True)\n",
    "\n",
    "one_hot_train = one_hot.loc[doc_term_train.index.tolist()]\n",
    "one_hot_test = one_hot.loc[doc_term_test.index.tolist()]\n",
    "\n",
    "tf_idf_train = tf_idf.loc[doc_term_train.index.tolist()]\n",
    "tf_idf_test = tf_idf.loc[doc_term_test.index.tolist()]\n",
    "\n",
    "print(\"Training set length:\", len(doc_term_train))\n",
    "print(\"Testing set length:\", len(doc_term_test))"
   ]
  },
  {
   "cell_type": "code",
   "execution_count": 9,
   "metadata": {},
   "outputs": [
    {
     "name": "stdout",
     "output_type": "stream",
     "text": [
      "[[ 0.00000000e+00  0.00000000e+00  0.00000000e+00  0.00000000e+00\n",
      "   0.00000000e+00]\n",
      " [-3.16670322e+00 -3.59312010e+00  6.56951189e-01 -8.46710384e-01\n",
      "   5.23286057e+00]\n",
      " [-3.08679557e+00 -3.53564262e+00  7.89312780e-01 -8.79459560e-01\n",
      "   5.17685032e+00]\n",
      " ...\n",
      " [-1.20738111e-01  9.21519753e-03 -1.31335575e-02  1.81944892e-02\n",
      "   2.40752678e-02]\n",
      " [-9.16644782e-02 -1.05623074e-01  8.75356495e-02  6.80792779e-02\n",
      "   5.99072687e-02]\n",
      " [-2.83900392e-03  1.86039240e-03  1.22785874e-04 -3.35842483e-02\n",
      "  -1.32259000e-02]]\n",
      "\n",
      "0       [2087, 70, 228, 536, 76, 33, 290, 6004, 71, 23...\n",
      "1       [27, 6005, 4252, 6006, 9, 13, 143, 14, 609, 17...\n",
      "2       [83, 101, 18, 152, 446, 559, 152, 12, 215, 143...\n",
      "3       [6007, 216, 262, 4253, 300, 1553, 274, 476, 96...\n",
      "4       [2825, 391, 15, 686, 994, 2826, 841, 1207, 0, ...\n",
      "                              ...                        \n",
      "7995    [814, 802, 11446, 982, 886, 11447, 40, 18, 114...\n",
      "7996    [11449, 97, 39, 221, 0, 0, 0, 0, 0, 0, 0, 0, 0...\n",
      "7997    [56, 5881, 979, 1960, 3658, 515, 1103, 1729, 0...\n",
      "7998    [69, 371, 1995, 755, 994, 69, 4002, 280, 143, ...\n",
      "7999    [2630, 2621, 1226, 31, 2282, 834, 38, 210, 472...\n",
      "Name: text, Length: 8000, dtype: object\n"
     ]
    }
   ],
   "source": [
    "df_nn = copy.deepcopy(df)\n",
    "tokenizer = Tokenizer()\n",
    "'''\n",
    "fit_on_texts function -> Updates internal vocabulary based on a list of texts.\n",
    "# In the case where texts contain lists, we assume each entry of the lists to be a token.\n",
    "\n",
    "source -> https://www.tensorflow.org/api_docs/python/tf/keras/preprocessing/text/Tokenizer#fit_on_texts\n",
    "'''\n",
    "tokenizer.fit_on_texts(df_nn['text'])\n",
    "df_nn['text'] = tokenizer.texts_to_sequences(df_nn['text']) # assign unique integers (starting from 1) to words\n",
    "\n",
    "\n",
    "'''\n",
    " 1) Construct word2vec matrix; words are on lines and on columns I got the values of the word2vec vector for each word\n",
    " 2) Do the required padding of the texts in order to have same length sequences \n",
    "'''\n",
    "word_dimension = 5\n",
    "word2vec = gensim.models.Word2Vec(sentences=df['text'], size=word_dimension, min_count=1, workers=4)\n",
    "word2vec_matrix = np.zeros((len(set_of_words) + 1, word_dimension)) # + 1 because I also got an embedding for 0, the padded val\n",
    "for key, value in tokenizer.word_index.items():\n",
    "    word2vec_matrix[value] = word2vec.wv[key]\n",
    "pads = pad_sequences(df_nn['text'], maxlen=max([len(elem) for elem in df['text']]), padding='post', value=0.0) # pad the sequenes such that all sequences are of length equal to the longest sequence length \n",
    "df_nn['text'] = pads.tolist()\n",
    "print(word2vec_matrix)\n",
    "print()\n",
    "print(df_nn['text'])\n",
    "\n",
    "\n",
    "# '''\n",
    "#  Properly construct the training, testing sets for the Vanilla RNN \n",
    "# ''' \n",
    "\n",
    "# int_word_dict = dict([(value, key) for key, value in tokenizer.word_index.items()])\n",
    "\n",
    "# train_df_nn, test_df_nn = train_test_split(df_nn, train_size=0.80, test_size=0.20, shuffle=True)\n",
    "\n",
    "# X_train = []\n",
    "# for sentence in train_df_nn['text']:\n",
    "#     x = []\n",
    "#     x.insert(0, None)\n",
    "#     for elem in sentence:\n",
    "#         vec = np.zeros((len(set_of_words) + 1, 1))\n",
    "#         if elem != 0:\n",
    "#             vec[set_of_words.index(int_word_dict[elem])] = 1\n",
    "#         x.append(vec)\n",
    "#     X_train.append(x)\n",
    "\n",
    "# Y_train = []\n",
    "# for label in train_df_nn['is_humor']:    \n",
    "#     Y_train.append(np.array([label, 1 - label]).reshape((2, 1)))\n",
    "\n",
    "# X_test = []\n",
    "# for sentence in test_df_nn['text']:\n",
    "#     x = []\n",
    "#     x.insert(0, None)\n",
    "#     for elem in sentence:\n",
    "#         vec = np.zeros((len(set_of_words) + 1, 1))\n",
    "#         if elem != 0:\n",
    "#             vec[set_of_words.index(int_word_dict[elem])] = 1\n",
    "#         x.append(vec)\n",
    "#     X_test.append(x)\n",
    "\n",
    "# Y_test = []\n",
    "# for label in test_df_nn['is_humor']:    \n",
    "#     Y_test.append(np.array([label, 1 - label]).reshape((2, 1)))"
   ]
  },
  {
   "cell_type": "code",
   "execution_count": 10,
   "metadata": {},
   "outputs": [
    {
     "name": "stderr",
     "output_type": "stream",
     "text": [
      "ERROR:root:Internal Python error in the inspect module.\n",
      "Below is the traceback from this internal error.\n",
      "\n",
      "\n",
      "KeyboardInterrupt\n",
      "\n"
     ]
    }
   ],
   "source": [
    "class RNN_M2O:\n",
    "    #word_dim may be 'one-hot', 'bag-of-words', word_dimension(int value) \n",
    "    def __init__(self, nr_hls, neurons_per_layer, learning_rate, epochs, vocab, X, Y, word_dim):\n",
    "        self.nr_hls = nr_hls; self.neurons_per_layer = neurons_per_layer; self.etha = learning_rate; self.epochs = epochs;\n",
    "        self.vocab = vocab; self.X = X; self.Y = Y; self.word_dim = word_dim\n",
    "        \n",
    "        # verifies what we're using aka one hot, bag of words or word2vec encoding \n",
    "        aux_func = lambda check : self.word_dim if type(check) is int else len(self.vocab)\n",
    "        \n",
    "        self.s = [np.zeros((self.neurons_per_layer, 1)) for _ in range(0, self.nr_hls + 1)]\n",
    "        self.o = None\n",
    "        \n",
    "        self.W = np.random.normal(0, np.sqrt(1 / (self.neurons_per_layer - 1)), (self.neurons_per_layer, self.neurons_per_layer))\n",
    "        self.U = np.random.normal(0, np.sqrt(1 / (aux_func(self.word_dim) - 1)), (self.neurons_per_layer, aux_func(self.word_dim)))\n",
    "        self.V = np.random.normal(0, np.sqrt(1 / (self.neurons_per_layer - 1)), (2, self.neurons_per_layer))\n",
    "        \n",
    "    def relu(self, z):\n",
    "        return np.array([np.array(list(map(lambda e : max(0, e), line))) for line in z])\n",
    "    \n",
    "    def relu_deriv(self, z):\n",
    "        return  np.array([np.array(list(map(lambda e : 1 if e >=0 else 0.01 * e, line))) for line in z])\n",
    "    \n",
    "    def softmax(self, z):\n",
    "        return np.exp(z) / np.sum(np.exp(z), axis=0)\n",
    "    \n",
    "    def forward_propagation(self, X):\n",
    "        for i in range(1, len(X)):\n",
    "            z = np.dot(self.W, self.s[i - 1]) + np.dot(self.U, X[i])\n",
    "            self.s[i] = self.relu(z)\n",
    "        z = np.dot(self.V, self.s[i])\n",
    "        self.o = self.softmax(z)\n",
    "    \n",
    "    def back_propagation(self, X, Y):\n",
    "        error = self.o - Y\n",
    "        self.V -= self.etha * np.dot(error, self.s[-1].T)\n",
    "        \n",
    "        gradient_W = 0; gradient_U = 0\n",
    "        \n",
    "        error = np.multiply(np.dot(self.V.T, error), self.relu_deriv(self.s[-1]))\n",
    "        gradient_W += np.dot(error, self.s[-2].T)\n",
    "        gradient_U += np.dot(error, X[-1].T)\n",
    "\n",
    "        for i in range(len(X) - 2, 0, -1):\n",
    "            error = np.multiply(np.dot(self.W.T, error), self.relu_deriv(self.s[i]))\n",
    "            gradient_W += np.dot(error, self.s[i - 1].T)\n",
    "            gradient_U += np.dot(error, X[i].T)\n",
    "        \n",
    "        self.W -= self.etha * gradient_W\n",
    "        self.U -= self.etha * gradient_U\n",
    "        \n",
    "#         self.s[0] = copy.deepcopy(self.s[-1])\n",
    "        \n",
    "    def fit(self):\n",
    "        for epoch in range(0, self.epochs):\n",
    "            for i in range(0, len(self.X)):\n",
    "                self.forward_propagation(self.X[i])\n",
    "                self.back_propagation(self.X[i], self.Y[i])\n",
    "    \n",
    "    def predict(self, X, Y):\n",
    "        for x in X:\n",
    "            self.forward_propagation(x)\n",
    "            print(self.o)\n",
    "            break\n",
    "        \n",
    "obj = RNN_M2O(nr_hls=len(X_train[0])-1, neurons_per_layer=5, learning_rate=0.1, epochs=2, vocab=set_of_words, \n",
    "              X=X_train, Y=Y_train, \n",
    "              word_dim = word_dimension if encoding == 1 else 'bag-of-words' if one_hot_check == 0 else 'one-hot')\n",
    "obj.fit()\n",
    "# obj.predict()"
   ]
  },
  {
   "cell_type": "code",
   "execution_count": 59,
   "metadata": {},
   "outputs": [],
   "source": [
    "from tensorflow.keras.models import Sequential \n",
    "from tensorflow.keras.layers import Input, Embedding, GRU, LSTM, Dense, Flatten, LSTM, BatchNormalization, Dropout\n",
    "from tensorflow.keras.initializers import Constant\n",
    "\n",
    "\n",
    "model1 = Sequential(name=\"RNN1\")\n",
    "model1.add(Embedding(input_dim=len(set_of_words) + 1, \n",
    "                    output_dim=word_dimension,\n",
    "                    embeddings_initializer=Constant(word2vec_matrix),\n",
    "                    input_length=max([len(elem) for elem in df['text']]),\n",
    "                    trainable=True,\n",
    "                    name=\"Embedding_layer\")\n",
    "         )\n",
    "model1.add(BatchNormalization(name=\"BatchNorm\"))\n",
    "model1.add(GRU(units=10, activation=\"tanh\", recurrent_activation=\"sigmoid\", dropout=0.1, recurrent_dropout=0.1, return_sequences=True, name=\"GRU_layer_1\"))\n",
    "model1.add(GRU(units=10, activation=\"tanh\", recurrent_activation=\"sigmoid\", dropout=0.1, recurrent_dropout=0.1, return_sequences=True, name=\"GRU_layer_2\"))\n",
    "model1.add(GRU(units=10, activation=\"tanh\", recurrent_activation=\"sigmoid\", dropout=0.1, recurrent_dropout=0.1, name=\"GRU_layer_3\"))\n",
    "model1.add(Dense(2, activation=\"softmax\", name=\"ouput_layer\"))"
   ]
  },
  {
   "cell_type": "code",
   "execution_count": 55,
   "metadata": {},
   "outputs": [
    {
     "data": {
      "image/png": "[encoded data removed]",
      "text/plain": [
       "<IPython.core.display.Image object>"
      ]
     },
     "execution_count": 55,
     "metadata": {},
     "output_type": "execute_result"
    }
   ],
   "source": [
    "from tensorflow.keras.utils import plot_model\n",
    "plot_model(model1, show_shapes=True)"
   ]
  },
  {
   "cell_type": "code",
   "execution_count": 60,
   "metadata": {},
   "outputs": [
    {
     "name": "stdout",
     "output_type": "stream",
     "text": [
      "Train on 7200 samples, validate on 800 samples\n",
      "Epoch 1/5\n",
      "7200/7200 - 269s - loss: 0.6674 - accuracy: 0.6147 - val_loss: 0.6691 - val_accuracy: 0.6075\n",
      "Epoch 2/5\n",
      "7200/7200 - 249s - loss: 0.6439 - accuracy: 0.6410 - val_loss: 0.5641 - val_accuracy: 0.7125\n",
      "Epoch 3/5\n",
      "7200/7200 - 245s - loss: 0.4386 - accuracy: 0.8035 - val_loss: 0.4356 - val_accuracy: 0.7862\n",
      "Epoch 4/5\n",
      "7200/7200 - 254s - loss: 0.2609 - accuracy: 0.8975 - val_loss: 0.4822 - val_accuracy: 0.7962\n",
      "Epoch 5/5\n",
      "7200/7200 - 245s - loss: 0.1825 - accuracy: 0.9346 - val_loss: 0.5524 - val_accuracy: 0.7725\n"
     ]
    },
    {
     "data": {
      "text/plain": [
       "<tensorflow.python.keras.callbacks.History at 0x1db56515bc8>"
      ]
     },
     "execution_count": 60,
     "metadata": {},
     "output_type": "execute_result"
    }
   ],
   "source": [
    "model1.compile(loss=\"categorical_crossentropy\", optimizer=\"adam\", metrics=[\"accuracy\"])\n",
    "model1.fit(pads, pd.concat([df_nn['is_humor'], 1-df_nn['is_humor']], axis=1, keys=['is_humor', 'not_humor']), batch_size=10, epochs=5, verbose=2, validation_split=0.1)"
   ]
  },
  {
   "cell_type": "code",
   "execution_count": 24,
   "metadata": {},
   "outputs": [],
   "source": [
    "model2 = Sequential(name=\"RNN2\")\n",
    "model2.add(Embedding(input_dim=len(set_of_words) + 1, \n",
    "                    output_dim=word_dimension,\n",
    "                    embeddings_initializer=Constant(word2vec_matrix),\n",
    "                    input_length=max([len(elem) for elem in df['text']]),\n",
    "                    trainable=True,\n",
    "                    name=\"Embedding_layer\")\n",
    "         )\n",
    "model1.add(BatchNormalization(name=\"BatchNorm\"))\n",
    "model2.add(LSTM(units=10, return_sequences=True, name=\"LSTM_layer_1\"))\n",
    "model2.add(LSTM(units=10, return_sequences=True, name=\"LSTM_layer_2\"))\n",
    "model2.add(LSTM(units=10, name=\"LSTM_layer_3\"))\n",
    "model2.add(Dense(2, activation=\"softmax\", name=\"ouput_layer\"))"
   ]
  },
  {
   "cell_type": "code",
   "execution_count": 34,
   "metadata": {},
   "outputs": [
    {
     "name": "stdout",
     "output_type": "stream",
     "text": [
      "Train on 7200 samples, validate on 800 samples\n",
      "Epoch 1/5\n",
      "7200/7200 - 41s - loss: 0.0368 - accuracy: 0.9892 - val_loss: 0.8248 - val_accuracy: 0.8225\n",
      "Epoch 2/5\n",
      "7200/7200 - 18s - loss: 0.0243 - accuracy: 0.9947 - val_loss: 0.8880 - val_accuracy: 0.8275\n",
      "Epoch 3/5\n",
      "7200/7200 - 16s - loss: 0.0222 - accuracy: 0.9958 - val_loss: 0.7953 - val_accuracy: 0.8225\n",
      "Epoch 4/5\n",
      "7200/7200 - 18s - loss: 0.0211 - accuracy: 0.9962 - val_loss: 0.8461 - val_accuracy: 0.8238\n",
      "Epoch 5/5\n",
      "7200/7200 - 18s - loss: 0.0186 - accuracy: 0.9961 - val_loss: 1.0223 - val_accuracy: 0.8275\n"
     ]
    },
    {
     "data": {
      "text/plain": [
       "<tensorflow.python.keras.callbacks.History at 0x1db1206cd08>"
      ]
     },
     "execution_count": 34,
     "metadata": {},
     "output_type": "execute_result"
    }
   ],
   "source": [
    "model2.compile(loss=\"categorical_crossentropy\", optimizer=\"adam\", metrics=[\"accuracy\"])\n",
    "model2.fit(pads, pd.concat([df_nn['is_humor'], 1-df_nn['is_humor']], axis=1, keys=['is_humor', 'not_humor']), batch_size=10, epochs=5, verbose=2, validation_split=0.1)"
   ]
  },
  {
   "cell_type": "code",
   "execution_count": 52,
   "metadata": {},
   "outputs": [],
   "source": [
    "model3 = Sequential(name=\"RNN3\")\n",
    "model3.add(Embedding(input_dim=len(set_of_words) + 1, \n",
    "                    output_dim=word_dimension,\n",
    "                    embeddings_initializer=Constant(word2vec_matrix),\n",
    "                    input_length=max([len(elem) for elem in df['text']]),\n",
    "                    trainable=True,\n",
    "                    name=\"Embedding_layer\")\n",
    "         )\n",
    "model3.add(BatchNormalization())\n",
    "model3.add(LSTM(units=10, activation=\"relu\", recurrent_activation=\"relu\", return_sequences=True, name=\"LSTM_layer_1\"))\n",
    "model3.add(BatchNormalization())\n",
    "model3.add(LSTM(units=10, activation=\"relu\", recurrent_activation=\"relu\", return_sequences=True, name=\"LSTM_layer_2\"))\n",
    "model3.add(Dropout(rate=0.2))\n",
    "model3.add(BatchNormalization())\n",
    "model3.add(LSTM(units=10, activation=\"relu\", recurrent_activation=\"relu\", name=\"LSTM_layer_3\"))\n",
    "model3.add(Dense(2, activation=\"softmax\", name=\"ouput_layer\"))"
   ]
  },
  {
   "cell_type": "code",
   "execution_count": 53,
   "metadata": {},
   "outputs": [
    {
     "name": "stdout",
     "output_type": "stream",
     "text": [
      "Train on 7200 samples, validate on 800 samples\n",
      "Epoch 1/5\n",
      "7200/7200 - 124s - loss: 0.6739 - accuracy: 0.6175 - val_loss: 0.6701 - val_accuracy: 0.6075\n",
      "Epoch 2/5\n",
      "7200/7200 - 123s - loss: 0.6654 - accuracy: 0.6175 - val_loss: 0.6703 - val_accuracy: 0.6075\n",
      "Epoch 3/5\n",
      "7200/7200 - 132s - loss: 0.6654 - accuracy: 0.6175 - val_loss: 0.6700 - val_accuracy: 0.6075\n",
      "Epoch 4/5\n",
      "7200/7200 - 129s - loss: 0.6654 - accuracy: 0.6175 - val_loss: 0.6701 - val_accuracy: 0.6075\n",
      "Epoch 5/5\n",
      "7200/7200 - 128s - loss: 0.6654 - accuracy: 0.6175 - val_loss: 0.6701 - val_accuracy: 0.6075\n"
     ]
    },
    {
     "data": {
      "text/plain": [
       "<tensorflow.python.keras.callbacks.History at 0x1db4fee2d48>"
      ]
     },
     "execution_count": 53,
     "metadata": {},
     "output_type": "execute_result"
    }
   ],
   "source": [
    "model3.compile(loss=\"categorical_crossentropy\", optimizer=\"adam\", metrics=[\"accuracy\"])\n",
    "model3.fit(pads, pd.concat([df_nn['is_humor'], 1-df_nn['is_humor']], axis=1, keys=['is_humor', 'not_humor']), batch_size=10, epochs=5, verbose=2, validation_split=0.1)"
   ]
  },
  {
   "cell_type": "code",
   "execution_count": 49,
   "metadata": {},
   "outputs": [],
   "source": [
    "model4 = Sequential(name=\"RNN4\")\n",
    "model4.add(Embedding(input_dim=len(set_of_words) + 1, \n",
    "                    output_dim=word_dimension,\n",
    "                    embeddings_initializer=Constant(word2vec_matrix),\n",
    "                    input_length=max([len(elem) for elem in df['text']]),\n",
    "                    trainable=True,\n",
    "                    name=\"Embedding_layer\")\n",
    "         )\n",
    "model4.add(LSTM(units=100, activation='relu', return_sequences=False, name=\"GRU_layer_1\"))\n",
    "model4.add(Dropout(rate=0.2))\n",
    "model4.add(BatchNormalization())\n",
    "model4.add(Dense(2, activation=\"softmax\", name=\"ouput_layer\"))"
   ]
  },
  {
   "cell_type": "code",
   "execution_count": 50,
   "metadata": {},
   "outputs": [
    {
     "name": "stdout",
     "output_type": "stream",
     "text": [
      "Train on 7200 samples, validate on 800 samples\n",
      "Epoch 1/5\n",
      "7200/7200 - 61s - loss: 0.6635 - accuracy: 0.6257 - val_loss: 0.6638 - val_accuracy: 0.6250\n",
      "Epoch 2/5\n",
      "7200/7200 - 44s - loss: 0.5519 - accuracy: 0.7215 - val_loss: 0.4436 - val_accuracy: 0.8050\n",
      "Epoch 3/5\n",
      "7200/7200 - 44s - loss: 0.3215 - accuracy: 0.8758 - val_loss: 0.4491 - val_accuracy: 0.8087\n",
      "Epoch 4/5\n",
      "7200/7200 - 47s - loss: 0.2142 - accuracy: 0.9257 - val_loss: 0.5059 - val_accuracy: 0.8213\n",
      "Epoch 5/5\n",
      "7200/7200 - 54s - loss: 0.1495 - accuracy: 0.9572 - val_loss: 0.5590 - val_accuracy: 0.8138\n"
     ]
    },
    {
     "data": {
      "text/plain": [
       "<tensorflow.python.keras.callbacks.History at 0x1db4feda748>"
      ]
     },
     "execution_count": 50,
     "metadata": {},
     "output_type": "execute_result"
    }
   ],
   "source": [
    "model4.compile(loss=\"categorical_crossentropy\", optimizer=\"adam\", metrics=[\"accuracy\"])\n",
    "model4.fit(pads, pd.concat([df_nn['is_humor'], 1-df_nn['is_humor']], axis=1, keys=['is_humor', 'not_humor']), batch_size=10, epochs=5, verbose=2, validation_split=0.1)"
   ]
  },
  {
   "cell_type": "code",
   "execution_count": 10,
   "metadata": {},
   "outputs": [
    {
     "name": "stdout",
     "output_type": "stream",
     "text": [
      "doc-term\n"
     ]
    }
   ],
   "source": [
    "encoding = input() #doc-term or tf-idf\n",
    "train_func = lambda enc : (doc_term_train[doc_term_train.columns[:-4]], doc_term_train[doc_term_train.columns[-4]]) \\\n",
    "                          if enc == 'doc_term' \\\n",
    "                          else \\\n",
    "                          (tf_idf_train[tf_idf_train.columns[:-4]], tf_idf_train[tf_idf_train.columns[-4]]) \\\n",
    "                          if enc == 'tf-idf' \\\n",
    "                          else \\\n",
    "                          (one_hot_train[one_hot_train.columns[:-4]], one_hot_train[one_hot_train.columns[-4]])\n",
    "        \n",
    "test_func = lambda enc : (doc_term_test[doc_term_test.columns[:-4]], doc_term_test[doc_term_test.columns[-4]]) \\\n",
    "                         if enc == 'doc_term' \\\n",
    "                         else \\\n",
    "                         (tf_idf_test[tf_idf_test.columns[:-4]], tf_idf_test[tf_idf_test.columns[-4]]) \\\n",
    "                         if enc == 'tf-idf' \\\n",
    "                         else \\\n",
    "                         (one_hot_test[one_hot_test.columns[:-4]], one_hot_test[one_hot_test.columns[-4]])\n",
    "\n",
    "X_train, Y_train = train_func(encoding)\n",
    "X_test, Y_test = test_func(encoding)"
   ]
  },
  {
   "cell_type": "code",
   "execution_count": 11,
   "metadata": {},
   "outputs": [
    {
     "name": "stdout",
     "output_type": "stream",
     "text": [
      "Accuracy with MultinomialNB, doc-term encoding: 0.833\n"
     ]
    }
   ],
   "source": [
    "#Laplace smoothing,  alpha is a smoothing hyperparameter\n",
    "multinomialNB_clf = MultinomialNB(alpha=1)\n",
    "multinomialNB_clf.fit(X_train, Y_train)\n",
    "multinomialNB_predictions = multinomialNB_clf.predict(X_test)\n",
    "print(\"Accuracy with MultinomialNB, \" + encoding + \" encoding:\" , accuracy_score(Y_test, multinomialNB_predictions))"
   ]
  },
  {
   "cell_type": "code",
   "execution_count": 12,
   "metadata": {},
   "outputs": [
    {
     "name": "stdout",
     "output_type": "stream",
     "text": [
      "Accuracy with CNB, doc-term encoding: 0.832\n"
     ]
    }
   ],
   "source": [
    "complementNB_clf = ComplementNB(alpha=1)\n",
    "complementNB_clf.fit(X_train, Y_train)\n",
    "complementNB_predictions = complementNB_clf.predict(X_test)\n",
    "print(\"Accuracy with CNB, \" + encoding + \" encoding:\", accuracy_score(Y_test, complementNB_predictions))"
   ]
  },
  {
   "cell_type": "code",
   "execution_count": 13,
   "metadata": {},
   "outputs": [
    {
     "name": "stdout",
     "output_type": "stream",
     "text": [
      "Accuracy with BNB, doc-term encoding: 0.802\n"
     ]
    }
   ],
   "source": [
    "bernoulliNB_clf = BernoulliNB(alpha=1, binarize=None)\n",
    "bernoulliNB_clf.fit(X_train, Y_train)\n",
    "bernoulliNB_predictions = bernoulliNB_clf.predict(X_test)\n",
    "print(\"Accuracy with BNB, \" + encoding + \" encoding:\", accuracy_score(Y_test, bernoulliNB_predictions))"
   ]
  },
  {
   "cell_type": "code",
   "execution_count": 56,
   "metadata": {},
   "outputs": [
    {
     "name": "stderr",
     "output_type": "stream",
     "text": [
      "C:\\Users\\Tudor\\Anaconda3\\lib\\site-packages\\sklearn\\linear_model\\logistic.py:432: FutureWarning: Default solver will be changed to 'lbfgs' in 0.22. Specify a solver to silence this warning.\n",
      "  FutureWarning)\n",
      "C:\\Users\\Tudor\\Anaconda3\\lib\\site-packages\\sklearn\\linear_model\\logistic.py:1544: UserWarning: 'n_jobs' > 1 does not have any effect when 'solver' is set to 'liblinear'. Got 'n_jobs' = 8.\n",
      "  \" = {}.\".format(effective_n_jobs(self.n_jobs)))\n"
     ]
    },
    {
     "name": "stdout",
     "output_type": "stream",
     "text": [
      "Accuracy with Logistic Regression, doc-term encoding: 0.8165\n",
      "Wall time: 1.14 s\n"
     ]
    }
   ],
   "source": [
    "%%time\n",
    "logreg_clf = LogisticRegression(penalty='l2', dual=True, C=1.5, n_jobs=-1)\n",
    "logreg_clf.fit(X_train, Y_train)\n",
    "logreg_predictions = logreg_clf.predict(X_test)\n",
    "print(\"Accuracy with Logistic Regression, \" + encoding + \" encoding:\", accuracy_score(Y_test, logreg_predictions))"
   ]
  },
  {
   "cell_type": "code",
   "execution_count": 14,
   "metadata": {},
   "outputs": [
    {
     "name": "stdout",
     "output_type": "stream",
     "text": [
      "[LibSVM]Accuracy with SVM linear kernel, doc-term encoding: 0.7955\n",
      "Wall time: 25min 32s\n"
     ]
    }
   ],
   "source": [
    "%%time\n",
    "svm_linear_clf = SVC(C=1, kernel='linear', cache_size=1000, probability=True, verbose=True)\n",
    "svm_linear_clf.fit(X_train, Y_train)\n",
    "svm_linear_predictions = svm_linear_clf.predict(X_test)\n",
    "print(\"Accuracy with SVM linear kernel, \" + encoding + \" encoding:\", accuracy_score(Y_test, svm_linear_predictions))"
   ]
  },
  {
   "cell_type": "code",
   "execution_count": 15,
   "metadata": {},
   "outputs": [
    {
     "name": "stderr",
     "output_type": "stream",
     "text": [
      "C:\\Users\\Tudor\\Anaconda3\\lib\\site-packages\\sklearn\\svm\\base.py:193: FutureWarning: The default value of gamma will change from 'auto' to 'scale' in version 0.22 to account better for unscaled features. Set gamma explicitly to 'auto' or 'scale' to avoid this warning.\n",
      "  \"avoid this warning.\", FutureWarning)\n"
     ]
    },
    {
     "name": "stdout",
     "output_type": "stream",
     "text": [
      "[LibSVM]Accuracy with SVM polynomial kernel, doc-term encoding: 0.612\n",
      "Wall time: 37min 58s\n"
     ]
    }
   ],
   "source": [
    "%%time\n",
    "svm_poly_clf = SVC(C=1, kernel='poly', degree=2, coef0=1, cache_size=1000, probability=True, verbose=True)\n",
    "svm_poly_clf.fit(X_train, Y_train)\n",
    "svm_poly_predictions = svm_poly_clf.predict(X_test)\n",
    "print(\"Accuracy with SVM polynomial kernel, \" + encoding + \" encoding:\", accuracy_score(Y_test, svm_poly_predictions))"
   ]
  },
  {
   "cell_type": "code",
   "execution_count": 17,
   "metadata": {},
   "outputs": [
    {
     "name": "stderr",
     "output_type": "stream",
     "text": [
      "C:\\Users\\Tudor\\Anaconda3\\lib\\site-packages\\sklearn\\svm\\base.py:193: FutureWarning: The default value of gamma will change from 'auto' to 'scale' in version 0.22 to account better for unscaled features. Set gamma explicitly to 'auto' or 'scale' to avoid this warning.\n",
      "  \"avoid this warning.\", FutureWarning)\n"
     ]
    },
    {
     "name": "stdout",
     "output_type": "stream",
     "text": [
      "[LibSVM]Accuracy with SVM polynomial kernel, doc-term encoding: 0.612\n",
      "Wall time: 38min 12s\n"
     ]
    }
   ],
   "source": [
    "%%time\n",
    "svm_poly_d3_clf = SVC(C=1, kernel='poly', degree=3, coef0=1, cache_size=1000, probability=True, verbose=True)\n",
    "svm_poly_d3_clf.fit(X_train, Y_train)\n",
    "svm_poly_d3_predictions = svm_poly_d3_clf.predict(X_test)\n",
    "print(\"Accuracy with SVM polynomial kernel, \" + encoding + \" encoding:\", accuracy_score(Y_test, svm_poly_d3_predictions))"
   ]
  },
  {
   "cell_type": "code",
   "execution_count": 18,
   "metadata": {},
   "outputs": [
    {
     "name": "stderr",
     "output_type": "stream",
     "text": [
      "C:\\Users\\Tudor\\Anaconda3\\lib\\site-packages\\sklearn\\model_selection\\_split.py:1978: FutureWarning: The default value of cv will change from 3 to 5 in version 0.22. Specify it explicitly to silence this warning.\n",
      "  warnings.warn(CV_WARNING, FutureWarning)\n"
     ]
    },
    {
     "name": "stdout",
     "output_type": "stream",
     "text": [
      "Wall time: 12min 51s\n",
      "Parser   : 131 ms\n"
     ]
    },
    {
     "data": {
      "text/html": [
       "<div>\n",
       "<style scoped>\n",
       "    .dataframe tbody tr th:only-of-type {\n",
       "        vertical-align: middle;\n",
       "    }\n",
       "\n",
       "    .dataframe tbody tr th {\n",
       "        vertical-align: top;\n",
       "    }\n",
       "\n",
       "    .dataframe thead th {\n",
       "        text-align: right;\n",
       "    }\n",
       "</style>\n",
       "<table border=\"1\" class=\"dataframe\">\n",
       "  <thead>\n",
       "    <tr style=\"text-align: right;\">\n",
       "      <th></th>\n",
       "      <th>mean_fit_time</th>\n",
       "      <th>std_fit_time</th>\n",
       "      <th>mean_score_time</th>\n",
       "      <th>std_score_time</th>\n",
       "      <th>param_C</th>\n",
       "      <th>param_class_weight</th>\n",
       "      <th>param_gamma</th>\n",
       "      <th>param_kernel</th>\n",
       "      <th>params</th>\n",
       "      <th>split0_test_score</th>\n",
       "      <th>split1_test_score</th>\n",
       "      <th>split2_test_score</th>\n",
       "      <th>mean_test_score</th>\n",
       "      <th>std_test_score</th>\n",
       "      <th>rank_test_score</th>\n",
       "    </tr>\n",
       "  </thead>\n",
       "  <tbody>\n",
       "    <tr>\n",
       "      <td>0</td>\n",
       "      <td>223.197081</td>\n",
       "      <td>2.288619</td>\n",
       "      <td>110.525484</td>\n",
       "      <td>0.512095</td>\n",
       "      <td>2.26374</td>\n",
       "      <td>None</td>\n",
       "      <td>0.0364975</td>\n",
       "      <td>rbf</td>\n",
       "      <td>{'C': 2.2637391282206, 'class_weight': None, '...</td>\n",
       "      <td>0.8205</td>\n",
       "      <td>0.8045</td>\n",
       "      <td>0.8145</td>\n",
       "      <td>0.813167</td>\n",
       "      <td>0.0066</td>\n",
       "      <td>1</td>\n",
       "    </tr>\n",
       "  </tbody>\n",
       "</table>\n",
       "</div>"
      ],
      "text/plain": [
       "   mean_fit_time  std_fit_time  mean_score_time  std_score_time  param_C  \\\n",
       "0     223.197081      2.288619       110.525484        0.512095  2.26374   \n",
       "\n",
       "  param_class_weight param_gamma param_kernel  \\\n",
       "0               None   0.0364975          rbf   \n",
       "\n",
       "                                              params  split0_test_score  \\\n",
       "0  {'C': 2.2637391282206, 'class_weight': None, '...             0.8205   \n",
       "\n",
       "   split1_test_score  split2_test_score  mean_test_score  std_test_score  \\\n",
       "0             0.8045             0.8145         0.813167          0.0066   \n",
       "\n",
       "   rank_test_score  \n",
       "0                1  "
      ]
     },
     "execution_count": 18,
     "metadata": {},
     "output_type": "execute_result"
    }
   ],
   "source": [
    "%%time\n",
    "grid_search = RandomizedSearchCV(estimator = SVC(), \n",
    "                                 param_distributions = {'C' : scipy.stats.expon(scale=100), \n",
    "                                                        'kernel': ['rbf'],\n",
    "                                                        'gamma': scipy.stats.expon(scale=.1),\n",
    "                                                        'class_weight': ['balanced', None]},\n",
    "                                 n_iter = 1,\n",
    "                                 scoring = 'accuracy', \n",
    "                                 n_jobs = -1,\n",
    "                                 cv = None\n",
    "                                )\n",
    "grid_search.fit(X_train, Y_train)\n",
    "r = pd.DataFrame(grid_search.cv_results_)\n",
    "r[r['rank_test_score'] == 1]"
   ]
  },
  {
   "cell_type": "code",
   "execution_count": 58,
   "metadata": {},
   "outputs": [
    {
     "name": "stdout",
     "output_type": "stream",
     "text": [
      "------------------------------- ROC Curve --------------------------------------------------------------\n"
     ]
    },
    {
     "data": {
      "image/png": "[encoded data removed]",
      "text/plain": [
       "<Figure size 432x288 with 1 Axes>"
      ]
     },
     "metadata": {
      "needs_background": "light"
     },
     "output_type": "display_data"
    },
    {
     "name": "stdout",
     "output_type": "stream",
     "text": [
      "AUC for MultinomialNB: 0.912559\n",
      "AUC for ComplementNB: 0.912559\n",
      "AUC for BernoulliNB: 0.911669\n",
      "AUC for Linear SVM: 0.875772\n",
      "AUC for LogReg: 0.894172\n"
     ]
    }
   ],
   "source": [
    "print(\"------------------------------- ROC Curve --------------------------------------------------------------\")\n",
    "fpr, tpr, thresholds = roc_curve(Y_test, multinomialNB_clf.predict_proba(X_test)[:, 1])\n",
    "fpr2, tpr2, thresholds2 = roc_curve(Y_test, complementNB_clf.predict_proba(X_test)[:, 1])\n",
    "fpr3, tpr3, thresholds3 = roc_curve(Y_test, bernoulliNB_clf.predict_proba(X_test)[:, 1])\n",
    "fpr4, tpr4, thresholds4 = roc_curve(Y_test, svm_linear_clf.predict_proba(X_test)[:, 1])\n",
    "fpr5, tpr5, thresholds5 = roc_curve(Y_test, logreg_clf.predict_proba(X_test)[:, 1])\n",
    "\n",
    "plt.plot(fpr, tpr, label = \"ROC curve\")\n",
    "plt.plot(fpr2, tpr2, label = \"ROC curve\")\n",
    "plt.plot(fpr3, tpr3, label = \"ROC curve\")\n",
    "plt.plot(fpr4, tpr4, label = \"ROC curve\")\n",
    "plt.plot(fpr5, tpr5, label = \"ROC curve\")\n",
    "\n",
    "plt.legend([\"MultinomialNB\", \"ComplementNB\", \"BernoulliNB\", \"Linear SVM\", \"LogReg\"])\n",
    "plt.plot([0, 1], [0, 1], 'k--')\n",
    "plt.xlabel(\"False Positive Rate\")\n",
    "plt.ylabel(\"True Positive Rate\")\n",
    "plt.show()\n",
    "\n",
    "print(\"AUC for MultinomialNB: %f\" % (roc_auc_score(Y_test, multinomialNB_clf.predict_proba(X_test)[:, 1])))\n",
    "print(\"AUC for ComplementNB: %f\" % (roc_auc_score(Y_test, complementNB_clf.predict_proba(X_test)[:, 1])))\n",
    "print(\"AUC for BernoulliNB: %f\" % (roc_auc_score(Y_test, bernoulliNB_clf.predict_proba(X_test)[:, 1])))\n",
    "print(\"AUC for Linear SVM: %f\" % (roc_auc_score(Y_test, svm_linear_clf.predict_proba(X_test)[:, 1])))\n",
    "print(\"AUC for LogReg: %f\" % (roc_auc_score(Y_test, logreg_clf.predict_proba(X_test)[:, 1])))"
   ]
  },
  {
   "cell_type": "code",
   "execution_count": 59,
   "metadata": {},
   "outputs": [
    {
     "name": "stdout",
     "output_type": "stream",
     "text": [
      "---------------------------- MultinomialNB --------------------------------------------\n",
      "Number of mislabeled points out of a total 2000 points : 334\n",
      "The accuracy score is : 0.833000\n",
      "[[ 556  220]\n",
      " [ 114 1110]]\n",
      "              precision    recall  f1-score   support\n",
      "\n",
      "           0       0.83      0.72      0.77       776\n",
      "           1       0.83      0.91      0.87      1224\n",
      "\n",
      "    accuracy                           0.83      2000\n",
      "   macro avg       0.83      0.81      0.82      2000\n",
      "weighted avg       0.83      0.83      0.83      2000\n",
      "\n",
      "Balanced accuacy score:  0.811678795229432\n"
     ]
    }
   ],
   "source": [
    "print('---------------------------- MultinomialNB --------------------------------------------')\n",
    "print(\"Number of mislabeled points out of a total %d points : %d\" % (X_test.shape[0], (Y_test != multinomialNB_predictions).sum()))\n",
    "print(\"The accuracy score is : %f\" % (accuracy_score(Y_test, multinomialNB_predictions)))\n",
    "cm = confusion_matrix(Y_test, multinomialNB_predictions)\n",
    "print(cm)\n",
    "print(classification_report(Y_test, multinomialNB_predictions))\n",
    "print(\"Balanced accuacy score: \", sklearn.metrics.balanced_accuracy_score(Y_test, multinomialNB_predictions))"
   ]
  },
  {
   "cell_type": "code",
   "execution_count": 60,
   "metadata": {},
   "outputs": [
    {
     "name": "stdout",
     "output_type": "stream",
     "text": [
      "---------------------------- ComplementNB --------------------------------------------\n",
      "Number of mislabeled points out of a total 2000 points : 336\n",
      "The accuracy score is : 0.832000\n",
      "[[ 595  181]\n",
      " [ 155 1069]]\n",
      "              precision    recall  f1-score   support\n",
      "\n",
      "           0       0.79      0.77      0.78       776\n",
      "           1       0.86      0.87      0.86      1224\n",
      "\n",
      "    accuracy                           0.83      2000\n",
      "   macro avg       0.82      0.82      0.82      2000\n",
      "weighted avg       0.83      0.83      0.83      2000\n",
      "\n",
      "Balanced accuacy score:  0.8200592951957415\n"
     ]
    }
   ],
   "source": [
    "print('---------------------------- ComplementNB --------------------------------------------')\n",
    "print(\"Number of mislabeled points out of a total %d points : %d\" % (X_test.shape[0], (Y_test != complementNB_predictions).sum()))\n",
    "print(\"The accuracy score is : %f\" % (accuracy_score(Y_test, complementNB_predictions)))\n",
    "cm = confusion_matrix(Y_test, complementNB_predictions)\n",
    "print(cm)\n",
    "print(classification_report(Y_test, complementNB_predictions))\n",
    "print(\"Balanced accuacy score: \", sklearn.metrics.balanced_accuracy_score(Y_test, complementNB_predictions))"
   ]
  },
  {
   "cell_type": "code",
   "execution_count": 61,
   "metadata": {},
   "outputs": [
    {
     "name": "stdout",
     "output_type": "stream",
     "text": [
      "---------------------------- BernoulliNB --------------------------------------------\n",
      "Number of mislabeled points out of a total 2000 points : 396\n",
      "The accuracy score is : 0.802000\n",
      "[[ 442  334]\n",
      " [  62 1162]]\n",
      "              precision    recall  f1-score   support\n",
      "\n",
      "           0       0.88      0.57      0.69       776\n",
      "           1       0.78      0.95      0.85      1224\n",
      "\n",
      "    accuracy                           0.80      2000\n",
      "   macro avg       0.83      0.76      0.77      2000\n",
      "weighted avg       0.82      0.80      0.79      2000\n",
      "\n",
      "Balanced accuacy score:  0.7594670170473687\n"
     ]
    }
   ],
   "source": [
    "print('---------------------------- BernoulliNB --------------------------------------------')\n",
    "print(\"Number of mislabeled points out of a total %d points : %d\" % (X_test.shape[0], (Y_test != bernoulliNB_predictions).sum()))\n",
    "print(\"The accuracy score is : %f\" % (accuracy_score(Y_test, bernoulliNB_predictions)))\n",
    "cm = confusion_matrix(Y_test, bernoulliNB_predictions)\n",
    "print(cm)\n",
    "print(classification_report(Y_test, bernoulliNB_predictions))\n",
    "print(\"Balanced accuacy score: \", sklearn.metrics.balanced_accuracy_score(Y_test, bernoulliNB_predictions))"
   ]
  },
  {
   "cell_type": "code",
   "execution_count": 62,
   "metadata": {},
   "outputs": [
    {
     "name": "stdout",
     "output_type": "stream",
     "text": [
      "---------------------------- Logistic Regression --------------------------------------------\n",
      "Number of mislabeled points out of a total 2000 points : 367\n",
      "The accuracy score is : 0.816500\n",
      "[[ 580  196]\n",
      " [ 171 1053]]\n",
      "              precision    recall  f1-score   support\n",
      "\n",
      "           0       0.77      0.75      0.76       776\n",
      "           1       0.84      0.86      0.85      1224\n",
      "\n",
      "    accuracy                           0.82      2000\n",
      "   macro avg       0.81      0.80      0.81      2000\n",
      "weighted avg       0.82      0.82      0.82      2000\n",
      "\n",
      "Balanced accuacy score:  0.803858399029715\n"
     ]
    }
   ],
   "source": [
    "print('---------------------------- Logistic Regression --------------------------------------------')\n",
    "print(\"Number of mislabeled points out of a total %d points : %d\" % (X_test.shape[0], (Y_test != logreg_predictions).sum()))\n",
    "print(\"The accuracy score is : %f\" % (accuracy_score(Y_test, logreg_predictions)))\n",
    "cm = confusion_matrix(Y_test, logreg_predictions)\n",
    "print(cm)\n",
    "print(classification_report(Y_test, logreg_predictions))\n",
    "print(\"Balanced accuacy score: \", sklearn.metrics.balanced_accuracy_score(Y_test, logreg_predictions))"
   ]
  },
  {
   "cell_type": "code",
   "execution_count": 63,
   "metadata": {},
   "outputs": [
    {
     "name": "stdout",
     "output_type": "stream",
     "text": [
      "---------------------------- Linear SVM --------------------------------------------\n",
      "Number of mislabeled points out of a total 2000 points : 409\n",
      "The accuracy score is : 0.795500\n",
      "[[ 580  196]\n",
      " [ 213 1011]]\n",
      "              precision    recall  f1-score   support\n",
      "\n",
      "           0       0.73      0.75      0.74       776\n",
      "           1       0.84      0.83      0.83      1224\n",
      "\n",
      "    accuracy                           0.80      2000\n",
      "   macro avg       0.78      0.79      0.79      2000\n",
      "weighted avg       0.80      0.80      0.80      2000\n",
      "\n",
      "Balanced accuacy score:  0.7867015362846169\n"
     ]
    }
   ],
   "source": [
    "print('---------------------------- Linear SVM --------------------------------------------')\n",
    "print(\"Number of mislabeled points out of a total %d points : %d\" % (X_test.shape[0], (Y_test != svm_linear_predictions).sum()))\n",
    "print(\"The accuracy score is : %f\" % (accuracy_score(Y_test, svm_linear_predictions)))\n",
    "cm = confusion_matrix(Y_test, svm_linear_predictions)\n",
    "print(cm)\n",
    "print(classification_report(Y_test, svm_linear_predictions))\n",
    "print(\"Balanced accuacy score: \", sklearn.metrics.balanced_accuracy_score(Y_test, svm_linear_predictions))"
   ]
  },
  {
   "cell_type": "code",
   "execution_count": 64,
   "metadata": {},
   "outputs": [
    {
     "ename": "TypeError",
     "evalue": "learning_curve() got an unexpected keyword argument 'return_times'",
     "output_type": "error",
     "traceback": [
      "\u001b[1;31m---------------------------------------------------------------------------\u001b[0m",
      "\u001b[1;31mTypeError\u001b[0m                                 Traceback (most recent call last)",
      "\u001b[1;32m<ipython-input-64-20cba74da352>\u001b[0m in \u001b[0;36m<module>\u001b[1;34m\u001b[0m\n\u001b[0;32m     64\u001b[0m \u001b[0mcv\u001b[0m \u001b[1;33m=\u001b[0m \u001b[0mShuffleSplit\u001b[0m\u001b[1;33m(\u001b[0m\u001b[0mn_splits\u001b[0m\u001b[1;33m=\u001b[0m\u001b[1;36m10\u001b[0m\u001b[1;33m,\u001b[0m \u001b[0mtest_size\u001b[0m\u001b[1;33m=\u001b[0m\u001b[1;36m0.1\u001b[0m\u001b[1;33m,\u001b[0m \u001b[0mrandom_state\u001b[0m\u001b[1;33m=\u001b[0m\u001b[1;36m0\u001b[0m\u001b[1;33m)\u001b[0m\u001b[1;33m\u001b[0m\u001b[1;33m\u001b[0m\u001b[0m\n\u001b[0;32m     65\u001b[0m plot_learning_curve(multinomialNB_clf, title, X_train, Y_train, ylim=(0.7, 1.01),\n\u001b[1;32m---> 66\u001b[1;33m                     cv=cv, n_jobs=-1)\n\u001b[0m\u001b[0;32m     67\u001b[0m \u001b[0mplt\u001b[0m\u001b[1;33m.\u001b[0m\u001b[0mshow\u001b[0m\u001b[1;33m(\u001b[0m\u001b[1;33m)\u001b[0m\u001b[1;33m\u001b[0m\u001b[1;33m\u001b[0m\u001b[0m\n",
      "\u001b[1;32m<ipython-input-64-20cba74da352>\u001b[0m in \u001b[0;36mplot_learning_curve\u001b[1;34m(estimator, title, X, y, axes, ylim, cv, n_jobs, train_sizes)\u001b[0m\n\u001b[0;32m     19\u001b[0m     \u001b[0maxes\u001b[0m\u001b[1;33m[\u001b[0m\u001b[1;36m0\u001b[0m\u001b[1;33m]\u001b[0m\u001b[1;33m.\u001b[0m\u001b[0mset_ylabel\u001b[0m\u001b[1;33m(\u001b[0m\u001b[1;34m\"Score\"\u001b[0m\u001b[1;33m)\u001b[0m\u001b[1;33m\u001b[0m\u001b[1;33m\u001b[0m\u001b[0m\n\u001b[0;32m     20\u001b[0m \u001b[1;33m\u001b[0m\u001b[0m\n\u001b[1;32m---> 21\u001b[1;33m     \u001b[0mtrain_sizes\u001b[0m\u001b[1;33m,\u001b[0m \u001b[0mtrain_scores\u001b[0m\u001b[1;33m,\u001b[0m \u001b[0mtest_scores\u001b[0m\u001b[1;33m,\u001b[0m \u001b[0mfit_times\u001b[0m\u001b[1;33m,\u001b[0m \u001b[0m_\u001b[0m \u001b[1;33m=\u001b[0m \u001b[0mlearning_curve\u001b[0m\u001b[1;33m(\u001b[0m\u001b[0mestimator\u001b[0m\u001b[1;33m,\u001b[0m \u001b[0mX\u001b[0m\u001b[1;33m,\u001b[0m \u001b[0my\u001b[0m\u001b[1;33m,\u001b[0m \u001b[0mcv\u001b[0m\u001b[1;33m=\u001b[0m\u001b[0mcv\u001b[0m\u001b[1;33m,\u001b[0m \u001b[0mn_jobs\u001b[0m\u001b[1;33m=\u001b[0m\u001b[0mn_jobs\u001b[0m\u001b[1;33m,\u001b[0m \u001b[0mtrain_sizes\u001b[0m\u001b[1;33m=\u001b[0m\u001b[0mtrain_sizes\u001b[0m\u001b[1;33m,\u001b[0m \u001b[0mreturn_times\u001b[0m\u001b[1;33m=\u001b[0m\u001b[1;32mTrue\u001b[0m\u001b[1;33m)\u001b[0m\u001b[1;33m\u001b[0m\u001b[1;33m\u001b[0m\u001b[0m\n\u001b[0m\u001b[0;32m     22\u001b[0m     \u001b[0mtrain_scores_mean\u001b[0m \u001b[1;33m=\u001b[0m \u001b[0mnp\u001b[0m\u001b[1;33m.\u001b[0m\u001b[0mmean\u001b[0m\u001b[1;33m(\u001b[0m\u001b[0mtrain_scores\u001b[0m\u001b[1;33m,\u001b[0m \u001b[0maxis\u001b[0m\u001b[1;33m=\u001b[0m\u001b[1;36m1\u001b[0m\u001b[1;33m)\u001b[0m\u001b[1;33m\u001b[0m\u001b[1;33m\u001b[0m\u001b[0m\n\u001b[0;32m     23\u001b[0m     \u001b[0mtrain_scores_std\u001b[0m \u001b[1;33m=\u001b[0m \u001b[0mnp\u001b[0m\u001b[1;33m.\u001b[0m\u001b[0mstd\u001b[0m\u001b[1;33m(\u001b[0m\u001b[0mtrain_scores\u001b[0m\u001b[1;33m,\u001b[0m \u001b[0maxis\u001b[0m\u001b[1;33m=\u001b[0m\u001b[1;36m1\u001b[0m\u001b[1;33m)\u001b[0m\u001b[1;33m\u001b[0m\u001b[1;33m\u001b[0m\u001b[0m\n",
      "\u001b[1;31mTypeError\u001b[0m: learning_curve() got an unexpected keyword argument 'return_times'"
     ]
    },
    {
     "data": {
      "image/png": "[encoded data removed]",
      "text/plain": [
       "<Figure size 1440x360 with 3 Axes>"
      ]
     },
     "metadata": {
      "needs_background": "light"
     },
     "output_type": "display_data"
    }
   ],
   "source": [
    "import numpy as np\n",
    "import matplotlib.pyplot as plt\n",
    "from sklearn.naive_bayes import GaussianNB\n",
    "from sklearn.svm import SVC\n",
    "from sklearn.datasets import load_digits\n",
    "from sklearn.model_selection import learning_curve\n",
    "from sklearn.model_selection import ShuffleSplit\n",
    "\n",
    "#https://scikit-learn.org/stable/auto_examples/model_selection/plot_learning_curve.html\n",
    "def plot_learning_curve(estimator, title, X, y, axes=None, ylim=None, cv=None,\n",
    "                        n_jobs=None, train_sizes=np.linspace(.1, 1.0, 5)):\n",
    "    if axes is None:\n",
    "        _, axes = plt.subplots(1, 3, figsize=(20, 5))\n",
    "\n",
    "    axes[0].set_title(title)\n",
    "    if ylim is not None:\n",
    "        axes[0].set_ylim(*ylim)\n",
    "    axes[0].set_xlabel(\"Training examples\")\n",
    "    axes[0].set_ylabel(\"Score\")\n",
    "\n",
    "    train_sizes, train_scores, test_scores, fit_times, _ = learning_curve(estimator, X, y, cv=cv, n_jobs=n_jobs, train_sizes=train_sizes, return_times=True)\n",
    "    train_scores_mean = np.mean(train_scores, axis=1)\n",
    "    train_scores_std = np.std(train_scores, axis=1)\n",
    "    test_scores_mean = np.mean(test_scores, axis=1)\n",
    "    test_scores_std = np.std(test_scores, axis=1)\n",
    "    fit_times_mean = np.mean(fit_times, axis=1)\n",
    "    fit_times_std = np.std(fit_times, axis=1)\n",
    "\n",
    "    # Plot learning curve\n",
    "    axes[0].grid()\n",
    "    axes[0].fill_between(train_sizes, train_scores_mean - train_scores_std,\n",
    "                         train_scores_mean + train_scores_std, alpha=0.1,\n",
    "                         color=\"r\")\n",
    "    axes[0].fill_between(train_sizes, test_scores_mean - test_scores_std,\n",
    "                         test_scores_mean + test_scores_std, alpha=0.1,\n",
    "                         color=\"g\")\n",
    "    axes[0].plot(train_sizes, train_scores_mean, 'o-', color=\"r\",\n",
    "                 label=\"Training score\")\n",
    "    axes[0].plot(train_sizes, test_scores_mean, 'o-', color=\"g\",\n",
    "                 label=\"Cross-validation score\")\n",
    "    axes[0].legend(loc=\"best\")\n",
    "\n",
    "    # Plot n_samples vs fit_times\n",
    "    axes[1].grid()\n",
    "    axes[1].plot(train_sizes, fit_times_mean, 'o-')\n",
    "    axes[1].fill_between(train_sizes, fit_times_mean - fit_times_std,\n",
    "                         fit_times_mean + fit_times_std, alpha=0.1)\n",
    "    axes[1].set_xlabel(\"Training examples\")\n",
    "    axes[1].set_ylabel(\"fit_times\")\n",
    "    axes[1].set_title(\"Scalability of the model\")\n",
    "\n",
    "    # Plot fit_time vs score\n",
    "    axes[2].grid()\n",
    "    axes[2].plot(fit_times_mean, test_scores_mean, 'o-')\n",
    "    axes[2].fill_between(fit_times_mean, test_scores_mean - test_scores_std,\n",
    "                         test_scores_mean + test_scores_std, alpha=0.1)\n",
    "    axes[2].set_xlabel(\"fit_times\")\n",
    "    axes[2].set_ylabel(\"Score\")\n",
    "    axes[2].set_title(\"Performance of the model\")\n",
    "\n",
    "    return plt\n",
    "\n",
    "title = \"Learning Curves (Naive Bayes)\"\n",
    "cv = ShuffleSplit(n_splits=10, test_size=0.1, random_state=0)\n",
    "plot_learning_curve(multinomialNB_clf, title, X_train, Y_train, ylim=(0.7, 1.01),\n",
    "                    cv=cv, n_jobs=-1)\n",
    "plt.show()\n"
   ]
  },
  {
   "cell_type": "code",
   "execution_count": 27,
   "metadata": {},
   "outputs": [
    {
     "name": "stderr",
     "output_type": "stream",
     "text": [
      "usage: conda-script.py [-h] [-V] command ...\n",
      "conda-script.py: error: unrecognized arguments: scikit-learn=0.23.2\n"
     ]
    },
    {
     "name": "stdout",
     "output_type": "stream",
     "text": [
      "\n",
      "Note: you may need to restart the kernel to use updated packages.\n"
     ]
    }
   ],
   "source": [
    "conda install scikit-learn=0.23.2"
   ]
  }
 ],
 "metadata": {
  "kernelspec": {
   "display_name": "Python 3",
   "language": "python",
   "name": "python3"
  },
  "language_info": {
   "codemirror_mode": {
    "name": "ipython",
    "version": 3
   },
   "file_extension": ".py",
   "mimetype": "text/x-python",
   "name": "python",
   "nbconvert_exporter": "python",
   "pygments_lexer": "ipython3",
   "version": "3.7.4"
  }
 },
 "nbformat": 4,
 "nbformat_minor": 2
}
